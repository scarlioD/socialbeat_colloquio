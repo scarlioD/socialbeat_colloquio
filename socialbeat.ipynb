{
 "cells": [
  {
   "cell_type": "code",
   "execution_count": 1,
   "metadata": {},
   "outputs": [],
   "source": [
    "#Librerie usate\n",
    "import matplotlib.pyplot as plt\n",
    "import pandas as pd\n",
    "import json\n",
    "import numpy as np \n",
    "from pandas import json_normalize\n",
    "from sklearn.cluster import KMeans\n",
    "import seaborn as sns\n",
    "import matplotlib as mpl"
   ]
  },
  {
   "cell_type": "code",
   "execution_count": 2,
   "metadata": {},
   "outputs": [],
   "source": [
    "#configurazion matplotlib\n",
    "%matplotlib inline \n",
    "mpl.style.use('ggplot')"
   ]
  },
  {
   "cell_type": "code",
   "execution_count": 3,
   "metadata": {},
   "outputs": [],
   "source": [
    "pd.set_option('display.max_colwidth', None) \n",
    "#Attivo questa opzione perchè preferisco visualizzare i dataframe non compressi"
   ]
  },
  {
   "cell_type": "markdown",
   "metadata": {},
   "source": [
    "<h2>Lettura del JSONL<h2>"
   ]
  },
  {
   "cell_type": "code",
   "execution_count": 4,
   "metadata": {},
   "outputs": [],
   "source": [
    "json_path = r\"C:\\Users\\carlo\\Downloads\\test.jsonl\" #percorso del file"
   ]
  },
  {
   "cell_type": "code",
   "execution_count": 5,
   "metadata": {},
   "outputs": [],
   "source": [
    "#Nelle prossime righe leggo il df dal file json e vado a raccogliere qualche dettaglio per procedere"
   ]
  },
  {
   "cell_type": "code",
   "execution_count": 6,
   "metadata": {},
   "outputs": [],
   "source": [
    "df = pd.read_json(json_path, lines = True) "
   ]
  },
  {
   "cell_type": "code",
   "execution_count": 7,
   "metadata": {},
   "outputs": [
    {
     "data": {
      "text/plain": [
       "Index(['remote', 'host', 'user', 'method', 'code', 'size', 'referer',\n",
       "       'http_x_forwarded_for', 'ua', 'created', 'agent_name', 'agent_category',\n",
       "       'agent_os', 'referer_known', 'uri', 'hostname', 'uri_url_hash',\n",
       "       'injected', 'enrich', 'event_tag', 'time'],\n",
       "      dtype='object')"
      ]
     },
     "execution_count": 7,
     "metadata": {},
     "output_type": "execute_result"
    }
   ],
   "source": [
    "df.columns"
   ]
  },
  {
   "cell_type": "code",
   "execution_count": 8,
   "metadata": {},
   "outputs": [
    {
     "data": {
      "text/plain": [
       "(3857, 21)"
      ]
     },
     "execution_count": 8,
     "metadata": {},
     "output_type": "execute_result"
    }
   ],
   "source": [
    "df.shape"
   ]
  },
  {
   "cell_type": "code",
   "execution_count": 9,
   "metadata": {},
   "outputs": [
    {
     "data": {
      "text/html": [
       "<div>\n",
       "<style scoped>\n",
       "    .dataframe tbody tr th:only-of-type {\n",
       "        vertical-align: middle;\n",
       "    }\n",
       "\n",
       "    .dataframe tbody tr th {\n",
       "        vertical-align: top;\n",
       "    }\n",
       "\n",
       "    .dataframe thead th {\n",
       "        text-align: right;\n",
       "    }\n",
       "</style>\n",
       "<table border=\"1\" class=\"dataframe\">\n",
       "  <thead>\n",
       "    <tr style=\"text-align: right;\">\n",
       "      <th></th>\n",
       "      <th>remote</th>\n",
       "      <th>host</th>\n",
       "      <th>user</th>\n",
       "      <th>method</th>\n",
       "      <th>code</th>\n",
       "      <th>size</th>\n",
       "      <th>referer</th>\n",
       "      <th>http_x_forwarded_for</th>\n",
       "      <th>ua</th>\n",
       "      <th>created</th>\n",
       "      <th>...</th>\n",
       "      <th>agent_category</th>\n",
       "      <th>agent_os</th>\n",
       "      <th>referer_known</th>\n",
       "      <th>uri</th>\n",
       "      <th>hostname</th>\n",
       "      <th>uri_url_hash</th>\n",
       "      <th>injected</th>\n",
       "      <th>enrich</th>\n",
       "      <th>event_tag</th>\n",
       "      <th>time</th>\n",
       "    </tr>\n",
       "  </thead>\n",
       "  <tbody>\n",
       "    <tr>\n",
       "      <th>0</th>\n",
       "      <td>62.308.59.153</td>\n",
       "      <td>-</td>\n",
       "      <td>-</td>\n",
       "      <td>GET</td>\n",
       "      <td>200</td>\n",
       "      <td>43</td>\n",
       "      <td>https://www.ecodibergamo.it/</td>\n",
       "      <td>155.380.27.200</td>\n",
       "      <td>{'browser': {'family': 'Chrome', 'version': '78.0.3904.87', 'major_version': 78}, 'os': {'family': 'Windows', 'version': '10', 'major_version': 10}, 'device': 'Other'}</td>\n",
       "      <td>2019-11-08T00:00:00.000000000Z</td>\n",
       "      <td>...</td>\n",
       "      <td>pc</td>\n",
       "      <td>Windows 10</td>\n",
       "      <td>False</td>\n",
       "      <td>{'stm': '1573171199218', 'e': 'pv', 'url': 'https://www.ecodibergamo.it/', 'page': 'L'Eco di Bergamo - Notizie di Bergamo e provincia', 'refr': 'https://www.ecodibergamo.it/', 'tv': 'js-2.11.0', 'tna': 'cf', 'aid': 'SB-de77ae02-a351-11e7-879c-28cfe91d3e21', 'p': 'web', 'tz': 'Europe/Berlin', 'lang': 'it-IT', 'cs': 'UTF-8', 'f_pdf': '1', 'f_qt': '0', 'f_realp': '0', 'f_wma': '0', 'f_dir': '0', 'f_fla': '0', 'f_java': '0', 'f_gears': '0', 'f_ag': '0', 'res': '1280x720', 'cd': '24', 'cookie': '1', 'eid': 'fee489a9-c110-42b8-b997-ab50ddb1e912', 'dtm': '1573171199215', 'vp': '1280x616', 'ds': '1263x6725', 'vid': '2', 'sid': 'a3b7e1b0-6192-46ee-8f6b-e258fc2811ab', 'duid': '0c2841a0-ea61-445e-973e-607ea1123333', 'fp': '4272995877'}</td>\n",
       "      <td>7c6c8781197c</td>\n",
       "      <td>7e452fb177e15e229756b1fff4a6f5bc</td>\n",
       "      <td>{'user': {'id': 'NDc5MjkwNTAwMDBwMG95aGRmMDlzbXN2aW10eWdtM3p0ZjBrMHl0ZTZycg==_test', 'profile': {'type': 'anonymous'}}}</td>\n",
       "      <td>{}</td>\n",
       "      <td>53248f1721ee</td>\n",
       "      <td>2019-11-08T00:00:00Z</td>\n",
       "    </tr>\n",
       "  </tbody>\n",
       "</table>\n",
       "<p>1 rows × 21 columns</p>\n",
       "</div>"
      ],
      "text/plain": [
       "          remote host user method  code  size                       referer  \\\n",
       "0  62.308.59.153    -    -    GET   200    43  https://www.ecodibergamo.it/   \n",
       "\n",
       "  http_x_forwarded_for  \\\n",
       "0       155.380.27.200   \n",
       "\n",
       "                                                                                                                                                                        ua  \\\n",
       "0  {'browser': {'family': 'Chrome', 'version': '78.0.3904.87', 'major_version': 78}, 'os': {'family': 'Windows', 'version': '10', 'major_version': 10}, 'device': 'Other'}   \n",
       "\n",
       "                          created  ... agent_category    agent_os  \\\n",
       "0  2019-11-08T00:00:00.000000000Z  ...             pc  Windows 10   \n",
       "\n",
       "  referer_known  \\\n",
       "0         False   \n",
       "\n",
       "                                                                                                                                                                                                                                                                                                                                                                                                                                                                                                                                                                                                                                                                                                                                                              uri  \\\n",
       "0  {'stm': '1573171199218', 'e': 'pv', 'url': 'https://www.ecodibergamo.it/', 'page': 'L'Eco di Bergamo - Notizie di Bergamo e provincia', 'refr': 'https://www.ecodibergamo.it/', 'tv': 'js-2.11.0', 'tna': 'cf', 'aid': 'SB-de77ae02-a351-11e7-879c-28cfe91d3e21', 'p': 'web', 'tz': 'Europe/Berlin', 'lang': 'it-IT', 'cs': 'UTF-8', 'f_pdf': '1', 'f_qt': '0', 'f_realp': '0', 'f_wma': '0', 'f_dir': '0', 'f_fla': '0', 'f_java': '0', 'f_gears': '0', 'f_ag': '0', 'res': '1280x720', 'cd': '24', 'cookie': '1', 'eid': 'fee489a9-c110-42b8-b997-ab50ddb1e912', 'dtm': '1573171199215', 'vp': '1280x616', 'ds': '1263x6725', 'vid': '2', 'sid': 'a3b7e1b0-6192-46ee-8f6b-e258fc2811ab', 'duid': '0c2841a0-ea61-445e-973e-607ea1123333', 'fp': '4272995877'}   \n",
       "\n",
       "       hostname                      uri_url_hash  \\\n",
       "0  7c6c8781197c  7e452fb177e15e229756b1fff4a6f5bc   \n",
       "\n",
       "                                                                                                                  injected  \\\n",
       "0  {'user': {'id': 'NDc5MjkwNTAwMDBwMG95aGRmMDlzbXN2aW10eWdtM3p0ZjBrMHl0ZTZycg==_test', 'profile': {'type': 'anonymous'}}}   \n",
       "\n",
       "  enrich     event_tag                  time  \n",
       "0     {}  53248f1721ee  2019-11-08T00:00:00Z  \n",
       "\n",
       "[1 rows x 21 columns]"
      ]
     },
     "execution_count": 9,
     "metadata": {},
     "output_type": "execute_result"
    }
   ],
   "source": [
    "df.head(1)"
   ]
  },
  {
   "cell_type": "markdown",
   "metadata": {},
   "source": [
    "Le colonne ua, enrich e uri contengono dei JSON, quindi vado a \"decomprimerle\" per ricavarne qualche informazione utile"
   ]
  },
  {
   "cell_type": "code",
   "execution_count": 10,
   "metadata": {},
   "outputs": [
    {
     "data": {
      "text/html": [
       "<div>\n",
       "<style scoped>\n",
       "    .dataframe tbody tr th:only-of-type {\n",
       "        vertical-align: middle;\n",
       "    }\n",
       "\n",
       "    .dataframe tbody tr th {\n",
       "        vertical-align: top;\n",
       "    }\n",
       "\n",
       "    .dataframe thead th {\n",
       "        text-align: right;\n",
       "    }\n",
       "</style>\n",
       "<table border=\"1\" class=\"dataframe\">\n",
       "  <thead>\n",
       "    <tr style=\"text-align: right;\">\n",
       "      <th></th>\n",
       "      <th>content_words_count</th>\n",
       "      <th>description</th>\n",
       "      <th>title</th>\n",
       "      <th>_tags</th>\n",
       "      <th>keywords</th>\n",
       "      <th>content_chars_count</th>\n",
       "      <th>_city</th>\n",
       "      <th>type</th>\n",
       "      <th>icon</th>\n",
       "      <th>providers.bitly</th>\n",
       "      <th>...</th>\n",
       "      <th>twitter.name</th>\n",
       "      <th>twitter.card</th>\n",
       "      <th>twitter.title</th>\n",
       "      <th>categories.parser</th>\n",
       "      <th>categories.exists</th>\n",
       "      <th>og_description</th>\n",
       "      <th>site_name</th>\n",
       "      <th>categories.category</th>\n",
       "      <th>categories.id</th>\n",
       "      <th>categories.subcategory</th>\n",
       "    </tr>\n",
       "  </thead>\n",
       "  <tbody>\n",
       "    <tr>\n",
       "      <th>0</th>\n",
       "      <td>NaN</td>\n",
       "      <td>NaN</td>\n",
       "      <td>NaN</td>\n",
       "      <td>NaN</td>\n",
       "      <td>NaN</td>\n",
       "      <td>NaN</td>\n",
       "      <td>NaN</td>\n",
       "      <td>NaN</td>\n",
       "      <td>NaN</td>\n",
       "      <td>NaN</td>\n",
       "      <td>...</td>\n",
       "      <td>NaN</td>\n",
       "      <td>NaN</td>\n",
       "      <td>NaN</td>\n",
       "      <td>NaN</td>\n",
       "      <td>NaN</td>\n",
       "      <td>NaN</td>\n",
       "      <td>NaN</td>\n",
       "      <td>NaN</td>\n",
       "      <td>NaN</td>\n",
       "      <td>NaN</td>\n",
       "    </tr>\n",
       "  </tbody>\n",
       "</table>\n",
       "<p>1 rows × 35 columns</p>\n",
       "</div>"
      ],
      "text/plain": [
       "   content_words_count description title _tags keywords  content_chars_count  \\\n",
       "0                  NaN         NaN   NaN   NaN      NaN                  NaN   \n",
       "\n",
       "  _city type icon  providers.bitly  ... twitter.name twitter.card  \\\n",
       "0   NaN  NaN  NaN              NaN  ...          NaN          NaN   \n",
       "\n",
       "  twitter.title categories.parser  categories.exists og_description site_name  \\\n",
       "0           NaN               NaN                NaN            NaN       NaN   \n",
       "\n",
       "  categories.category categories.id categories.subcategory  \n",
       "0                 NaN           NaN                    NaN  \n",
       "\n",
       "[1 rows x 35 columns]"
      ]
     },
     "execution_count": 10,
     "metadata": {},
     "output_type": "execute_result"
    }
   ],
   "source": [
    "df_enrich = json_normalize(df['enrich'])\n",
    "df_enrich.head(1)"
   ]
  },
  {
   "cell_type": "code",
   "execution_count": 11,
   "metadata": {},
   "outputs": [
    {
     "data": {
      "text/html": [
       "<div>\n",
       "<style scoped>\n",
       "    .dataframe tbody tr th:only-of-type {\n",
       "        vertical-align: middle;\n",
       "    }\n",
       "\n",
       "    .dataframe tbody tr th {\n",
       "        vertical-align: top;\n",
       "    }\n",
       "\n",
       "    .dataframe thead th {\n",
       "        text-align: right;\n",
       "    }\n",
       "</style>\n",
       "<table border=\"1\" class=\"dataframe\">\n",
       "  <thead>\n",
       "    <tr style=\"text-align: right;\">\n",
       "      <th></th>\n",
       "      <th>device</th>\n",
       "      <th>browser.family</th>\n",
       "      <th>browser.version</th>\n",
       "      <th>browser.major_version</th>\n",
       "      <th>os.family</th>\n",
       "      <th>os.version</th>\n",
       "      <th>os.major_version</th>\n",
       "    </tr>\n",
       "  </thead>\n",
       "  <tbody>\n",
       "    <tr>\n",
       "      <th>0</th>\n",
       "      <td>Other</td>\n",
       "      <td>Chrome</td>\n",
       "      <td>78.0.3904.87</td>\n",
       "      <td>78.0</td>\n",
       "      <td>Windows</td>\n",
       "      <td>10</td>\n",
       "      <td>10.0</td>\n",
       "    </tr>\n",
       "  </tbody>\n",
       "</table>\n",
       "</div>"
      ],
      "text/plain": [
       "  device browser.family browser.version  browser.major_version os.family  \\\n",
       "0  Other         Chrome    78.0.3904.87                   78.0   Windows   \n",
       "\n",
       "  os.version  os.major_version  \n",
       "0         10              10.0  "
      ]
     },
     "execution_count": 11,
     "metadata": {},
     "output_type": "execute_result"
    }
   ],
   "source": [
    "df_ua = json_normalize(df['ua'])\n",
    "df_ua.head(1)"
   ]
  },
  {
   "cell_type": "code",
   "execution_count": 12,
   "metadata": {
    "scrolled": true
   },
   "outputs": [
    {
     "data": {
      "text/html": [
       "<div>\n",
       "<style scoped>\n",
       "    .dataframe tbody tr th:only-of-type {\n",
       "        vertical-align: middle;\n",
       "    }\n",
       "\n",
       "    .dataframe tbody tr th {\n",
       "        vertical-align: top;\n",
       "    }\n",
       "\n",
       "    .dataframe thead th {\n",
       "        text-align: right;\n",
       "    }\n",
       "</style>\n",
       "<table border=\"1\" class=\"dataframe\">\n",
       "  <thead>\n",
       "    <tr style=\"text-align: right;\">\n",
       "      <th></th>\n",
       "      <th>stm</th>\n",
       "      <th>e</th>\n",
       "      <th>url</th>\n",
       "      <th>page</th>\n",
       "      <th>refr</th>\n",
       "      <th>tv</th>\n",
       "      <th>tna</th>\n",
       "      <th>aid</th>\n",
       "      <th>p</th>\n",
       "      <th>tz</th>\n",
       "      <th>...</th>\n",
       "      <th>cd</th>\n",
       "      <th>cookie</th>\n",
       "      <th>eid</th>\n",
       "      <th>dtm</th>\n",
       "      <th>vp</th>\n",
       "      <th>ds</th>\n",
       "      <th>vid</th>\n",
       "      <th>sid</th>\n",
       "      <th>duid</th>\n",
       "      <th>fp</th>\n",
       "    </tr>\n",
       "  </thead>\n",
       "  <tbody>\n",
       "    <tr>\n",
       "      <th>0</th>\n",
       "      <td>1573171199218</td>\n",
       "      <td>pv</td>\n",
       "      <td>https://www.ecodibergamo.it/</td>\n",
       "      <td>L'Eco di Bergamo - Notizie di Bergamo e provincia</td>\n",
       "      <td>https://www.ecodibergamo.it/</td>\n",
       "      <td>js-2.11.0</td>\n",
       "      <td>cf</td>\n",
       "      <td>SB-de77ae02-a351-11e7-879c-28cfe91d3e21</td>\n",
       "      <td>web</td>\n",
       "      <td>Europe/Berlin</td>\n",
       "      <td>...</td>\n",
       "      <td>24</td>\n",
       "      <td>1</td>\n",
       "      <td>fee489a9-c110-42b8-b997-ab50ddb1e912</td>\n",
       "      <td>1573171199215</td>\n",
       "      <td>1280x616</td>\n",
       "      <td>1263x6725</td>\n",
       "      <td>2</td>\n",
       "      <td>a3b7e1b0-6192-46ee-8f6b-e258fc2811ab</td>\n",
       "      <td>0c2841a0-ea61-445e-973e-607ea1123333</td>\n",
       "      <td>4272995877</td>\n",
       "    </tr>\n",
       "  </tbody>\n",
       "</table>\n",
       "<p>1 rows × 32 columns</p>\n",
       "</div>"
      ],
      "text/plain": [
       "             stm   e                           url  \\\n",
       "0  1573171199218  pv  https://www.ecodibergamo.it/   \n",
       "\n",
       "                                                page  \\\n",
       "0  L'Eco di Bergamo - Notizie di Bergamo e provincia   \n",
       "\n",
       "                           refr         tv tna  \\\n",
       "0  https://www.ecodibergamo.it/  js-2.11.0  cf   \n",
       "\n",
       "                                       aid    p             tz  ...  cd  \\\n",
       "0  SB-de77ae02-a351-11e7-879c-28cfe91d3e21  web  Europe/Berlin  ...  24   \n",
       "\n",
       "  cookie                                   eid            dtm        vp  \\\n",
       "0      1  fee489a9-c110-42b8-b997-ab50ddb1e912  1573171199215  1280x616   \n",
       "\n",
       "          ds vid                                   sid  \\\n",
       "0  1263x6725   2  a3b7e1b0-6192-46ee-8f6b-e258fc2811ab   \n",
       "\n",
       "                                   duid          fp  \n",
       "0  0c2841a0-ea61-445e-973e-607ea1123333  4272995877  \n",
       "\n",
       "[1 rows x 32 columns]"
      ]
     },
     "execution_count": 12,
     "metadata": {},
     "output_type": "execute_result"
    }
   ],
   "source": [
    "df_uri = json_normalize(df['uri'])\n",
    "df_uri.head(1)"
   ]
  },
  {
   "cell_type": "code",
   "execution_count": 13,
   "metadata": {},
   "outputs": [
    {
     "data": {
      "text/plain": [
       "content_words_count                       2838\n",
       "description                               2838\n",
       "title                                     2838\n",
       "_tags                                     2838\n",
       "keywords                                  2838\n",
       "content_chars_count                       2838\n",
       "_city                                     2844\n",
       "type                                      2838\n",
       "icon                                      2838\n",
       "providers.bitly                           3857\n",
       "ai.classification.source                  3003\n",
       "ai.classification.predictions             3003\n",
       "ai.classification_standard.source         3003\n",
       "ai.classification_standard.predictions    3003\n",
       "image.monochromatic                       2838\n",
       "image.name                                2838\n",
       "image.field                               2838\n",
       "image.url                                 2838\n",
       "image.height                              2877\n",
       "image.width                               2877\n",
       "image.version                             2838\n",
       "image.type                                2877\n",
       "image.id                                  2838\n",
       "twitter.site                              2842\n",
       "twitter.field                             2842\n",
       "twitter.name                              2842\n",
       "twitter.card                              2842\n",
       "twitter.title                             2842\n",
       "categories.parser                         2838\n",
       "categories.exists                         2838\n",
       "og_description                            3822\n",
       "site_name                                 3822\n",
       "categories.category                       3685\n",
       "categories.id                             3685\n",
       "categories.subcategory                    3790\n",
       "dtype: int64"
      ]
     },
     "execution_count": 13,
     "metadata": {},
     "output_type": "execute_result"
    }
   ],
   "source": [
    "df_enrich.isnull().sum(axis = 0) \n",
    "#Il dataset è molto frammentato e mancano diverse informazioni, per questo ho deciso di non utlizzarlo"
   ]
  },
  {
   "cell_type": "code",
   "execution_count": 14,
   "metadata": {},
   "outputs": [
    {
     "data": {
      "text/plain": [
       "device                    0\n",
       "browser.family            0\n",
       "browser.version           0\n",
       "browser.major_version     8\n",
       "os.family                 0\n",
       "os.version                0\n",
       "os.major_version         54\n",
       "dtype: int64"
      ]
     },
     "execution_count": 14,
     "metadata": {},
     "output_type": "execute_result"
    }
   ],
   "source": [
    "df_ua.isnull().sum(axis = 0) \n",
    "#a differenza del df precedente ho un dataset consistente e che mi da informazioni \n",
    "#utili relative alle tecnologie utilizzate per consultare le pagine web"
   ]
  },
  {
   "cell_type": "code",
   "execution_count": 15,
   "metadata": {},
   "outputs": [
    {
     "data": {
      "text/plain": [
       "stm           0\n",
       "e             0\n",
       "url           0\n",
       "page         25\n",
       "refr       1357\n",
       "tv            0\n",
       "tna           0\n",
       "aid           0\n",
       "p             0\n",
       "tz            0\n",
       "lang          0\n",
       "cs            0\n",
       "f_pdf      2627\n",
       "f_qt       2627\n",
       "f_realp    2627\n",
       "f_wma      2627\n",
       "f_dir      2627\n",
       "f_fla      2627\n",
       "f_java     2584\n",
       "f_gears    2627\n",
       "f_ag       2627\n",
       "res           0\n",
       "cd            0\n",
       "cookie        0\n",
       "eid           0\n",
       "dtm           0\n",
       "vp            0\n",
       "ds            0\n",
       "vid           0\n",
       "sid           0\n",
       "duid          0\n",
       "fp            0\n",
       "dtype: int64"
      ]
     },
     "execution_count": 15,
     "metadata": {},
     "output_type": "execute_result"
    }
   ],
   "source": [
    "df_uri.isnull().sum(axis = 0)\n",
    "#df altalenante contente molte informazioni a mio avviso poco utili"
   ]
  },
  {
   "cell_type": "code",
   "execution_count": 16,
   "metadata": {},
   "outputs": [],
   "source": [
    "df.drop(['ua','enrich','uri','injected'], axis=1, inplace=True) #drop delle \"colonne jsonate\""
   ]
  },
  {
   "cell_type": "markdown",
   "metadata": {},
   "source": [
    "<h2>Creazione del dataset per il clustering</h2>"
   ]
  },
  {
   "cell_type": "code",
   "execution_count": 17,
   "metadata": {},
   "outputs": [],
   "source": [
    "df_final = pd.concat([df, df_ua], axis=1) #inserisco"
   ]
  },
  {
   "cell_type": "code",
   "execution_count": 18,
   "metadata": {},
   "outputs": [
    {
     "data": {
      "text/plain": [
       "Index(['remote', 'host', 'user', 'method', 'code', 'size', 'referer',\n",
       "       'http_x_forwarded_for', 'created', 'agent_name', 'agent_category',\n",
       "       'agent_os', 'referer_known', 'hostname', 'uri_url_hash', 'event_tag',\n",
       "       'time', 'device', 'browser.family', 'browser.version',\n",
       "       'browser.major_version', 'os.family', 'os.version', 'os.major_version'],\n",
       "      dtype='object')"
      ]
     },
     "execution_count": 18,
     "metadata": {},
     "output_type": "execute_result"
    }
   ],
   "source": [
    "df_final.columns"
   ]
  },
  {
   "cell_type": "code",
   "execution_count": 19,
   "metadata": {},
   "outputs": [
    {
     "data": {
      "text/html": [
       "<div>\n",
       "<style scoped>\n",
       "    .dataframe tbody tr th:only-of-type {\n",
       "        vertical-align: middle;\n",
       "    }\n",
       "\n",
       "    .dataframe tbody tr th {\n",
       "        vertical-align: top;\n",
       "    }\n",
       "\n",
       "    .dataframe thead th {\n",
       "        text-align: right;\n",
       "    }\n",
       "</style>\n",
       "<table border=\"1\" class=\"dataframe\">\n",
       "  <thead>\n",
       "    <tr style=\"text-align: right;\">\n",
       "      <th></th>\n",
       "      <th>remote</th>\n",
       "      <th>host</th>\n",
       "      <th>user</th>\n",
       "      <th>method</th>\n",
       "      <th>code</th>\n",
       "      <th>size</th>\n",
       "      <th>referer</th>\n",
       "      <th>http_x_forwarded_for</th>\n",
       "      <th>created</th>\n",
       "      <th>agent_name</th>\n",
       "      <th>...</th>\n",
       "      <th>uri_url_hash</th>\n",
       "      <th>event_tag</th>\n",
       "      <th>time</th>\n",
       "      <th>device</th>\n",
       "      <th>browser.family</th>\n",
       "      <th>browser.version</th>\n",
       "      <th>browser.major_version</th>\n",
       "      <th>os.family</th>\n",
       "      <th>os.version</th>\n",
       "      <th>os.major_version</th>\n",
       "    </tr>\n",
       "  </thead>\n",
       "  <tbody>\n",
       "    <tr>\n",
       "      <th>0</th>\n",
       "      <td>62.308.59.153</td>\n",
       "      <td>-</td>\n",
       "      <td>-</td>\n",
       "      <td>GET</td>\n",
       "      <td>200</td>\n",
       "      <td>43</td>\n",
       "      <td>https://www.ecodibergamo.it/</td>\n",
       "      <td>155.380.27.200</td>\n",
       "      <td>2019-11-08T00:00:00.000000000Z</td>\n",
       "      <td>Chrome</td>\n",
       "      <td>...</td>\n",
       "      <td>7e452fb177e15e229756b1fff4a6f5bc</td>\n",
       "      <td>53248f1721ee</td>\n",
       "      <td>2019-11-08T00:00:00Z</td>\n",
       "      <td>Other</td>\n",
       "      <td>Chrome</td>\n",
       "      <td>78.0.3904.87</td>\n",
       "      <td>78.0</td>\n",
       "      <td>Windows</td>\n",
       "      <td>10</td>\n",
       "      <td>10.0</td>\n",
       "    </tr>\n",
       "    <tr>\n",
       "      <th>1</th>\n",
       "      <td>356.6.121.291</td>\n",
       "      <td>-</td>\n",
       "      <td>-</td>\n",
       "      <td>GET</td>\n",
       "      <td>200</td>\n",
       "      <td>43</td>\n",
       "      <td>https://www.ecodibergamo.it/</td>\n",
       "      <td>224.80.19.283</td>\n",
       "      <td>2019-11-08T00:00:02.000000000Z</td>\n",
       "      <td>Firefox</td>\n",
       "      <td>...</td>\n",
       "      <td>7e452fb177e15e229756b1fff4a6f5bc</td>\n",
       "      <td>53248f1721ee</td>\n",
       "      <td>2019-11-08T00:00:02Z</td>\n",
       "      <td>Other</td>\n",
       "      <td>Firefox</td>\n",
       "      <td>70.0</td>\n",
       "      <td>70.0</td>\n",
       "      <td>Windows</td>\n",
       "      <td>10</td>\n",
       "      <td>10.0</td>\n",
       "    </tr>\n",
       "    <tr>\n",
       "      <th>2</th>\n",
       "      <td>130.216.19.309</td>\n",
       "      <td>-</td>\n",
       "      <td>-</td>\n",
       "      <td>GET</td>\n",
       "      <td>200</td>\n",
       "      <td>43</td>\n",
       "      <td>https://www.ecodibergamo.it/stories/bergamo-citta/bergamo-nellolimpo-della-guida-rossada-vittorio-al-top-new-entry-impronte_1327138_11/</td>\n",
       "      <td>373.198.78.13</td>\n",
       "      <td>2019-11-08T00:00:02.000000000Z</td>\n",
       "      <td>Chrome</td>\n",
       "      <td>...</td>\n",
       "      <td>3555294575be3f0cf6e0e2b50e5be1e5</td>\n",
       "      <td>53248f1721ee</td>\n",
       "      <td>2019-11-08T00:00:02Z</td>\n",
       "      <td>Generic Smartphone</td>\n",
       "      <td>Chrome</td>\n",
       "      <td>77.0.3865.116</td>\n",
       "      <td>77.0</td>\n",
       "      <td>Android</td>\n",
       "      <td>4.4.4</td>\n",
       "      <td>4.0</td>\n",
       "    </tr>\n",
       "    <tr>\n",
       "      <th>3</th>\n",
       "      <td>239.337.124.291</td>\n",
       "      <td>-</td>\n",
       "      <td>-</td>\n",
       "      <td>GET</td>\n",
       "      <td>200</td>\n",
       "      <td>43</td>\n",
       "      <td>https://www.ecodibergamo.it/stories/bassa-bergamasca/treviglio-chiedono-reddito-di-cittadinanzama-nei-nostri-registri-risultano-def_1327223_11/</td>\n",
       "      <td>133.81.301.216</td>\n",
       "      <td>2019-11-08T00:00:03.000000000Z</td>\n",
       "      <td>Chrome</td>\n",
       "      <td>...</td>\n",
       "      <td>00bb3d6e2dc4de820e4f61122af37779</td>\n",
       "      <td>53248f1721ee</td>\n",
       "      <td>2019-11-08T00:00:03Z</td>\n",
       "      <td>Other</td>\n",
       "      <td>Chrome</td>\n",
       "      <td>78.0.3904.70</td>\n",
       "      <td>78.0</td>\n",
       "      <td>Windows</td>\n",
       "      <td>7</td>\n",
       "      <td>7.0</td>\n",
       "    </tr>\n",
       "    <tr>\n",
       "      <th>4</th>\n",
       "      <td>91.182.8.154</td>\n",
       "      <td>-</td>\n",
       "      <td>-</td>\n",
       "      <td>GET</td>\n",
       "      <td>200</td>\n",
       "      <td>43</td>\n",
       "      <td>https://www.ecodibergamo.it/stories/bergamo-citta/il-natale-a-bergamo-dal-24-novembreal-via-la-ruota-panoramica-in-centro_1327082_11/</td>\n",
       "      <td>235.176.197.323</td>\n",
       "      <td>2019-11-08T00:00:04.000000000Z</td>\n",
       "      <td>Chrome</td>\n",
       "      <td>...</td>\n",
       "      <td>5be523c26c14b27ab55b04321d954402</td>\n",
       "      <td>53248f1721ee</td>\n",
       "      <td>2019-11-08T00:00:04Z</td>\n",
       "      <td>Generic Smartphone</td>\n",
       "      <td>Chrome Mobile</td>\n",
       "      <td>78.0.3904.96</td>\n",
       "      <td>78.0</td>\n",
       "      <td>Android</td>\n",
       "      <td>9</td>\n",
       "      <td>9.0</td>\n",
       "    </tr>\n",
       "  </tbody>\n",
       "</table>\n",
       "<p>5 rows × 24 columns</p>\n",
       "</div>"
      ],
      "text/plain": [
       "            remote host user method  code  size  \\\n",
       "0    62.308.59.153    -    -    GET   200    43   \n",
       "1    356.6.121.291    -    -    GET   200    43   \n",
       "2   130.216.19.309    -    -    GET   200    43   \n",
       "3  239.337.124.291    -    -    GET   200    43   \n",
       "4     91.182.8.154    -    -    GET   200    43   \n",
       "\n",
       "                                                                                                                                           referer  \\\n",
       "0                                                                                                                     https://www.ecodibergamo.it/   \n",
       "1                                                                                                                     https://www.ecodibergamo.it/   \n",
       "2          https://www.ecodibergamo.it/stories/bergamo-citta/bergamo-nellolimpo-della-guida-rossada-vittorio-al-top-new-entry-impronte_1327138_11/   \n",
       "3  https://www.ecodibergamo.it/stories/bassa-bergamasca/treviglio-chiedono-reddito-di-cittadinanzama-nei-nostri-registri-risultano-def_1327223_11/   \n",
       "4            https://www.ecodibergamo.it/stories/bergamo-citta/il-natale-a-bergamo-dal-24-novembreal-via-la-ruota-panoramica-in-centro_1327082_11/   \n",
       "\n",
       "  http_x_forwarded_for                         created agent_name  ...  \\\n",
       "0       155.380.27.200  2019-11-08T00:00:00.000000000Z     Chrome  ...   \n",
       "1        224.80.19.283  2019-11-08T00:00:02.000000000Z    Firefox  ...   \n",
       "2        373.198.78.13  2019-11-08T00:00:02.000000000Z     Chrome  ...   \n",
       "3       133.81.301.216  2019-11-08T00:00:03.000000000Z     Chrome  ...   \n",
       "4      235.176.197.323  2019-11-08T00:00:04.000000000Z     Chrome  ...   \n",
       "\n",
       "                       uri_url_hash     event_tag                  time  \\\n",
       "0  7e452fb177e15e229756b1fff4a6f5bc  53248f1721ee  2019-11-08T00:00:00Z   \n",
       "1  7e452fb177e15e229756b1fff4a6f5bc  53248f1721ee  2019-11-08T00:00:02Z   \n",
       "2  3555294575be3f0cf6e0e2b50e5be1e5  53248f1721ee  2019-11-08T00:00:02Z   \n",
       "3  00bb3d6e2dc4de820e4f61122af37779  53248f1721ee  2019-11-08T00:00:03Z   \n",
       "4  5be523c26c14b27ab55b04321d954402  53248f1721ee  2019-11-08T00:00:04Z   \n",
       "\n",
       "               device browser.family browser.version browser.major_version  \\\n",
       "0               Other         Chrome    78.0.3904.87                  78.0   \n",
       "1               Other        Firefox            70.0                  70.0   \n",
       "2  Generic Smartphone         Chrome   77.0.3865.116                  77.0   \n",
       "3               Other         Chrome    78.0.3904.70                  78.0   \n",
       "4  Generic Smartphone  Chrome Mobile    78.0.3904.96                  78.0   \n",
       "\n",
       "  os.family os.version os.major_version  \n",
       "0   Windows         10             10.0  \n",
       "1   Windows         10             10.0  \n",
       "2   Android      4.4.4              4.0  \n",
       "3   Windows          7              7.0  \n",
       "4   Android          9              9.0  \n",
       "\n",
       "[5 rows x 24 columns]"
      ]
     },
     "execution_count": 19,
     "metadata": {},
     "output_type": "execute_result"
    }
   ],
   "source": [
    "df_final.head()"
   ]
  },
  {
   "cell_type": "code",
   "execution_count": 20,
   "metadata": {},
   "outputs": [
    {
     "data": {
      "text/plain": [
       "remote                    0\n",
       "host                      0\n",
       "user                      0\n",
       "method                    0\n",
       "code                      0\n",
       "size                      0\n",
       "referer                   0\n",
       "http_x_forwarded_for      0\n",
       "created                   0\n",
       "agent_name                0\n",
       "agent_category            0\n",
       "agent_os                  0\n",
       "referer_known             0\n",
       "hostname                  0\n",
       "uri_url_hash              0\n",
       "event_tag                 0\n",
       "time                      0\n",
       "device                    0\n",
       "browser.family            0\n",
       "browser.version           0\n",
       "browser.major_version     8\n",
       "os.family                 0\n",
       "os.version                0\n",
       "os.major_version         54\n",
       "dtype: int64"
      ]
     },
     "execution_count": 20,
     "metadata": {},
     "output_type": "execute_result"
    }
   ],
   "source": [
    "df_final.isnull().sum(axis = 0) #controllo se ci sono valori NaN"
   ]
  },
  {
   "cell_type": "code",
   "execution_count": 21,
   "metadata": {},
   "outputs": [],
   "source": [
    "df_final.dropna(inplace=True) \n",
    "#essendo pochi si può effettuare un drop evitando ripercussioni negative per quando si andrà a fare il fit"
   ]
  },
  {
   "cell_type": "markdown",
   "metadata": {},
   "source": [
    "<h2>Pulizia del DF</h2>"
   ]
  },
  {
   "cell_type": "markdown",
   "metadata": {},
   "source": [
    "Guardando in di sfuggita il df le colonne user, host, method, code, event_tag, referer_known, hostname\n",
    "e size mi hanno dato l' impressione di avere tutti i\n",
    "valori uguali, controllo se è vero"
   ]
  },
  {
   "cell_type": "code",
   "execution_count": 22,
   "metadata": {},
   "outputs": [
    {
     "data": {
      "text/plain": [
       "-    3803\n",
       "Name: user, dtype: int64"
      ]
     },
     "execution_count": 22,
     "metadata": {},
     "output_type": "execute_result"
    }
   ],
   "source": [
    "df_final['user'].value_counts(ascending=True)  #drop, tutti i valori sono uguali"
   ]
  },
  {
   "cell_type": "code",
   "execution_count": 23,
   "metadata": {},
   "outputs": [
    {
     "data": {
      "text/plain": [
       "-    3803\n",
       "Name: host, dtype: int64"
      ]
     },
     "execution_count": 23,
     "metadata": {},
     "output_type": "execute_result"
    }
   ],
   "source": [
    "df_final['host'].value_counts(ascending=True)  #drop, tutti i valori sono uguali"
   ]
  },
  {
   "cell_type": "code",
   "execution_count": 24,
   "metadata": {},
   "outputs": [
    {
     "data": {
      "text/plain": [
       "GET    3803\n",
       "Name: method, dtype: int64"
      ]
     },
     "execution_count": 24,
     "metadata": {},
     "output_type": "execute_result"
    }
   ],
   "source": [
    "df_final['method'].value_counts(ascending=True)  #drop, tutti i valori sono uguali"
   ]
  },
  {
   "cell_type": "code",
   "execution_count": 25,
   "metadata": {},
   "outputs": [
    {
     "data": {
      "text/plain": [
       "200    3803\n",
       "Name: code, dtype: int64"
      ]
     },
     "execution_count": 25,
     "metadata": {},
     "output_type": "execute_result"
    }
   ],
   "source": [
    "df_final['code'].value_counts(ascending=True)  #drop, tutti i valori sono uguali"
   ]
  },
  {
   "cell_type": "code",
   "execution_count": 26,
   "metadata": {},
   "outputs": [
    {
     "data": {
      "text/plain": [
       "43    3803\n",
       "Name: size, dtype: int64"
      ]
     },
     "execution_count": 26,
     "metadata": {},
     "output_type": "execute_result"
    }
   ],
   "source": [
    "df_final['size'].value_counts(ascending=True)  #drop, tutti i valori sono uguali"
   ]
  },
  {
   "cell_type": "code",
   "execution_count": 27,
   "metadata": {},
   "outputs": [
    {
     "data": {
      "text/plain": [
       "53248f1721ee    3803\n",
       "Name: event_tag, dtype: int64"
      ]
     },
     "execution_count": 27,
     "metadata": {},
     "output_type": "execute_result"
    }
   ],
   "source": [
    "df_final['event_tag'].value_counts(ascending=True) #drop, tutti i valori sono uguali"
   ]
  },
  {
   "cell_type": "code",
   "execution_count": 28,
   "metadata": {},
   "outputs": [
    {
     "data": {
      "text/plain": [
       "False    3803\n",
       "Name: referer_known, dtype: int64"
      ]
     },
     "execution_count": 28,
     "metadata": {},
     "output_type": "execute_result"
    }
   ],
   "source": [
    "df_final['referer_known'].value_counts(ascending=True)  #drop, tutti i valori sono uguali"
   ]
  },
  {
   "cell_type": "code",
   "execution_count": 29,
   "metadata": {},
   "outputs": [
    {
     "data": {
      "text/plain": [
       "7c6c8781197c    3803\n",
       "Name: hostname, dtype: int64"
      ]
     },
     "execution_count": 29,
     "metadata": {},
     "output_type": "execute_result"
    }
   ],
   "source": [
    "df_final['hostname'].value_counts(ascending=True) #drop, tutti i valori sono uguali"
   ]
  },
  {
   "cell_type": "code",
   "execution_count": 30,
   "metadata": {},
   "outputs": [
    {
     "data": {
      "text/plain": [
       "341.75.150.265     1\n",
       "210.325.277.28     1\n",
       "219.0.87.123       1\n",
       "344.379.286.384    1\n",
       "350.187.358.44     1\n",
       "                  ..\n",
       "88.35.196.135      1\n",
       "23.221.185.262     1\n",
       "10.37.176.329      1\n",
       "115.297.57.176     1\n",
       "255.288.120.226    1\n",
       "Name: remote, Length: 3803, dtype: int64"
      ]
     },
     "execution_count": 30,
     "metadata": {},
     "output_type": "execute_result"
    }
   ],
   "source": [
    "df_final['remote'].value_counts(ascending=True)    "
   ]
  },
  {
   "cell_type": "code",
   "execution_count": 31,
   "metadata": {},
   "outputs": [
    {
     "data": {
      "text/plain": [
       "30.299.295.53      1\n",
       "171.205.34.290     1\n",
       "318.268.16.227     1\n",
       "288.304.202.253    1\n",
       "26.216.7.369       1\n",
       "                  ..\n",
       "65.98.347.194      1\n",
       "154.99.283.97      1\n",
       "249.172.45.3       1\n",
       "92.57.131.322      1\n",
       "235.285.169.350    1\n",
       "Name: http_x_forwarded_for, Length: 3803, dtype: int64"
      ]
     },
     "execution_count": 31,
     "metadata": {},
     "output_type": "execute_result"
    }
   ],
   "source": [
    "df_final['http_x_forwarded_for'].value_counts(ascending=True)  "
   ]
  },
  {
   "cell_type": "markdown",
   "metadata": {},
   "source": [
    "Elimino anche remote e http_x_forwarded_for perchè contengono indirizzi IP da cui non posso ricavare informazioni \n",
    "utili, e le occorrenze sono sempre diverse (problema opposto alle righe precedenti)"
   ]
  },
  {
   "cell_type": "code",
   "execution_count": 32,
   "metadata": {},
   "outputs": [
    {
     "data": {
      "text/plain": [
       "33f90ef751403ecbb3b8e459ceb1f036       1\n",
       "6116e790acbcd9adc094db12d193be5b       1\n",
       "f4ce23943464fc93562553cfdf0a51b8       1\n",
       "4b9d534b1d421e3c009639d094c9708a       1\n",
       "c30a63641a81b1f046a43669a199d6f5       1\n",
       "                                    ... \n",
       "2145ffa2108dd4ea47a070e351fdb04f      75\n",
       "665549bda6774d439f401067e2fad789     119\n",
       "00e14514dba0a186362c2c13d3c0011b     120\n",
       "325e43bac506792812119d89c81edaf2     225\n",
       "7e452fb177e15e229756b1fff4a6f5bc    2027\n",
       "Name: uri_url_hash, Length: 531, dtype: int64"
      ]
     },
     "execution_count": 32,
     "metadata": {},
     "output_type": "execute_result"
    }
   ],
   "source": [
    "df_final['uri_url_hash'].value_counts(ascending=True) #drop confonde"
   ]
  },
  {
   "cell_type": "markdown",
   "metadata": {},
   "source": [
    "Elimino uri_url_hash perchè a mio avviso non può darmi nessuna informazione (ho stampato le occorrenze per scrupolo)"
   ]
  },
  {
   "cell_type": "code",
   "execution_count": 33,
   "metadata": {},
   "outputs": [],
   "source": [
    "edb = df_final['referer']"
   ]
  },
  {
   "cell_type": "code",
   "execution_count": 34,
   "metadata": {},
   "outputs": [
    {
     "data": {
      "text/plain": [
       "https://www.ecodibergamo.it/                                                                                                                                                                                                                                  2127\n",
       "https://www.ecodibergamo.it/stories/Isola/frecciarossa-laccoltellatore-lavorava-per-una-ditta-bergamasca-sara-licenziat_1327304_11/                                                                                                                            241\n",
       "https://www.ecodibergamo.it/stories/bergamo-citta/tamponamento-fra-auto-in-a4illesa-la-sciatrice-bergamasca-goggia_1327291_11/                                                                                                                                 124\n",
       "https://www.ecodibergamo.it/stories/bergamo-citta/seggiolini-anti-abbandono-per-i-bimbisi-va-verso-il-rinvio-delle-sanzioni_1327287_11/                                                                                                                        116\n",
       "https://www.ecodibergamo.it/stories/premium/Cronaca/ecco-le-superiori-che-preparano-al-futuroa-bergamo-mascheroni-e-riva-al-top_1327251_11/                                                                                                                     83\n",
       "                                                                                                                                                                                                                                                              ... \n",
       "https://www.ecodibergamo.it/stories/moda-e-tendenze/labito-non-fa-il-monaco-madieci-dritte-per-un-colloquio-di-lavoro_1236376_11/                                                                                                                                1\n",
       "https://www.ecodibergamo.it/stories/amici-con-la-coda/la-gestione-del-cane-allaperto_1051621_11/                                                                                                                                                                 1\n",
       "https://www.ecodibergamo.it/stories/premium/Cronaca/ecco-le-superiori-che-preparano-al-futuroa-bergamo-mascheroni-e-riva-al-top_1327251_11/?src=newsletter&utm_source=email&utm_medium=dailyNL.informativi.eco.pomeriggio&utm_campaign=free.RassegnaStampa       1\n",
       "https://www.ecodibergamo.it/stories/bergamo-citta/si-va-tutti-quanti-in-metacon-il-trofeo-lupo-alberto_1237728_11/                                                                                                                                               1\n",
       "https://www.ecodibergamo.it/stories/Cronaca/giotto-avvelenato-il-racconto-e-morto-tra-le-mie-braccia_1054261_11/                                                                                                                                                 1\n",
       "Name: referer, Length: 474, dtype: int64"
      ]
     },
     "execution_count": 34,
     "metadata": {},
     "output_type": "execute_result"
    }
   ],
   "source": [
    "edb.value_counts()  "
   ]
  },
  {
   "cell_type": "code",
   "execution_count": 35,
   "metadata": {},
   "outputs": [
    {
     "data": {
      "text/plain": [
       "https://www.ecodibergamo.it/                                                                                                                                                                                                                                  2127\n",
       "https://www.ecodibergamo.it/stories/Isola/frecciarossa-laccoltellatore-lavorava-per-una-ditta-bergamasca-sara-licenziat_1327304_11/                                                                                                                            241\n",
       "https://www.ecodibergamo.it/stories/bergamo-citta/tamponamento-fra-auto-in-a4illesa-la-sciatrice-bergamasca-goggia_1327291_11/                                                                                                                                 124\n",
       "https://www.ecodibergamo.it/stories/bergamo-citta/seggiolini-anti-abbandono-per-i-bimbisi-va-verso-il-rinvio-delle-sanzioni_1327287_11/                                                                                                                        116\n",
       "https://www.ecodibergamo.it/stories/premium/Cronaca/ecco-le-superiori-che-preparano-al-futuroa-bergamo-mascheroni-e-riva-al-top_1327251_11/                                                                                                                     83\n",
       "                                                                                                                                                                                                                                                              ... \n",
       "https://www.ecodibergamo.it/stories/moda-e-tendenze/labito-non-fa-il-monaco-madieci-dritte-per-un-colloquio-di-lavoro_1236376_11/                                                                                                                                1\n",
       "https://www.ecodibergamo.it/stories/amici-con-la-coda/la-gestione-del-cane-allaperto_1051621_11/                                                                                                                                                                 1\n",
       "https://www.ecodibergamo.it/stories/premium/Cronaca/ecco-le-superiori-che-preparano-al-futuroa-bergamo-mascheroni-e-riva-al-top_1327251_11/?src=newsletter&utm_source=email&utm_medium=dailyNL.informativi.eco.pomeriggio&utm_campaign=free.RassegnaStampa       1\n",
       "https://www.ecodibergamo.it/stories/bergamo-citta/si-va-tutti-quanti-in-metacon-il-trofeo-lupo-alberto_1237728_11/                                                                                                                                               1\n",
       "https://www.ecodibergamo.it/stories/Cronaca/giotto-avvelenato-il-racconto-e-morto-tra-le-mie-braccia_1054261_11/                                                                                                                                                 1\n",
       "Name: referer, Length: 473, dtype: int64"
      ]
     },
     "execution_count": 35,
     "metadata": {},
     "output_type": "execute_result"
    }
   ],
   "source": [
    "edb[edb.str.startswith(r'https://www.ecodibergamo.it/')].value_counts()  "
   ]
  },
  {
   "cell_type": "markdown",
   "metadata": {},
   "source": [
    "Dalla colonna referer evinco che tutti i link consultati sono contenuti all'interno del sito https://www.ecodibergamo.it/ , si noti che la infatti homepage ha il maggior numero di accessi.\n",
    "In ogni caso vorrei anche eliminare questa colonna."
   ]
  },
  {
   "cell_type": "code",
   "execution_count": 36,
   "metadata": {},
   "outputs": [
    {
     "data": {
      "text/plain": [
       "2019-11-08T00:19:33.000000000Z     1\n",
       "2019-11-08T00:20:52.000000000Z     1\n",
       "2019-11-08T00:07:06.000000000Z     1\n",
       "2019-11-08T00:16:54.000000000Z     1\n",
       "2019-11-08T00:12:15.000000000Z     1\n",
       "                                  ..\n",
       "2019-11-08T00:06:00.000000000Z    11\n",
       "2019-11-08T00:03:40.000000000Z    12\n",
       "2019-11-08T00:23:40.000000000Z    16\n",
       "2019-11-08T00:23:41.000000000Z    20\n",
       "2019-11-08T00:23:42.000000000Z    24\n",
       "Name: created, Length: 1931, dtype: int64"
      ]
     },
     "execution_count": 36,
     "metadata": {},
     "output_type": "execute_result"
    }
   ],
   "source": [
    "df_final['created'].value_counts(ascending=True)  "
   ]
  },
  {
   "cell_type": "code",
   "execution_count": 37,
   "metadata": {},
   "outputs": [
    {
     "data": {
      "text/plain": [
       "2019-11-08T00:10:32Z     1\n",
       "2019-11-08T00:27:25Z     1\n",
       "2019-11-08T00:17:47Z     1\n",
       "2019-11-08T00:43:51Z     1\n",
       "2019-11-08T00:23:49Z     1\n",
       "                        ..\n",
       "2019-11-08T00:46:13Z    11\n",
       "2019-11-08T00:03:40Z    12\n",
       "2019-11-08T00:23:40Z    16\n",
       "2019-11-08T00:23:41Z    20\n",
       "2019-11-08T00:23:42Z    24\n",
       "Name: time, Length: 1929, dtype: int64"
      ]
     },
     "execution_count": 37,
     "metadata": {},
     "output_type": "execute_result"
    }
   ],
   "source": [
    "df_final['time'].value_counts(ascending=True) #drop"
   ]
  },
  {
   "cell_type": "markdown",
   "metadata": {},
   "source": [
    "time e created rappresentano lo stesso timestamp in formato diverso, non mi servono quindi li elimino"
   ]
  },
  {
   "cell_type": "code",
   "execution_count": 38,
   "metadata": {},
   "outputs": [
    {
     "data": {
      "text/plain": [
       "Windows Phone      13\n",
       "Mac OS X          226\n",
       "iOS               707\n",
       "Windows          1058\n",
       "Android          1799\n",
       "Name: os.family, dtype: int64"
      ]
     },
     "execution_count": 38,
     "metadata": {},
     "output_type": "execute_result"
    }
   ],
   "source": [
    "df_final['os.family'].value_counts(ascending=True) #drop"
   ]
  },
  {
   "cell_type": "code",
   "execution_count": 39,
   "metadata": {},
   "outputs": [
    {
     "data": {
      "text/plain": [
       "crawler        133\n",
       "pc            1155\n",
       "smartphone    2515\n",
       "Name: agent_category, dtype: int64"
      ]
     },
     "execution_count": 39,
     "metadata": {},
     "output_type": "execute_result"
    }
   ],
   "source": [
    "df_final['agent_category'].value_counts(ascending=True)  "
   ]
  },
  {
   "cell_type": "code",
   "execution_count": 40,
   "metadata": {},
   "outputs": [
    {
     "data": {
      "text/plain": [
       "HUAWEI CRR-L09           1\n",
       "Lumia 635                1\n",
       "MZ-m3 note               1\n",
       "Lenovo K33a48            1\n",
       "Samsung SM-A700F         1\n",
       "                      ... \n",
       "Spider                 133\n",
       "iPad                   175\n",
       "iPhone                 529\n",
       "Other                 1149\n",
       "Generic Smartphone    1215\n",
       "Name: device, Length: 137, dtype: int64"
      ]
     },
     "execution_count": 40,
     "metadata": {},
     "output_type": "execute_result"
    }
   ],
   "source": [
    "df_final['device'].value_counts(ascending=True)"
   ]
  },
  {
   "cell_type": "code",
   "execution_count": 41,
   "metadata": {},
   "outputs": [
    {
     "data": {
      "text/plain": [
       "bingbot                          1\n",
       "Firefox iOS                      1\n",
       "Yandex Browser                   1\n",
       "Googlebot                        1\n",
       "Instagram                        2\n",
       "Opera Mobile                     2\n",
       "Edge Mobile                      3\n",
       "Android                          3\n",
       "Amazon Silk                      5\n",
       "IE Mobile                       10\n",
       "Chrome Mobile iOS               28\n",
       "Firefox Mobile                  33\n",
       "IE                              69\n",
       "Mobile Safari UI/WKWebView      72\n",
       "Chrome Mobile WebView          102\n",
       "Safari                         108\n",
       "Edge                           128\n",
       "Facebook                       130\n",
       "BingPreview                    131\n",
       "Firefox                        217\n",
       "Samsung Internet               252\n",
       "Mobile Safari                  603\n",
       "Chrome                         677\n",
       "Chrome Mobile                 1224\n",
       "Name: browser.family, dtype: int64"
      ]
     },
     "execution_count": 41,
     "metadata": {},
     "output_type": "execute_result"
    }
   ],
   "source": [
    "df_final['browser.family'].value_counts(ascending=True)"
   ]
  },
  {
   "cell_type": "code",
   "execution_count": 42,
   "metadata": {},
   "outputs": [
    {
     "data": {
      "text/plain": [
       "Windows 8              6\n",
       "Windows XP            10\n",
       "Windows Phone OS      13\n",
       "Windows 8.1           44\n",
       "UNKNOWN              133\n",
       "iPad                 175\n",
       "Mac OSX              226\n",
       "Windows 7            329\n",
       "iPhone               529\n",
       "Windows 10           540\n",
       "Android             1798\n",
       "Name: agent_os, dtype: int64"
      ]
     },
     "execution_count": 42,
     "metadata": {},
     "output_type": "execute_result"
    }
   ],
   "source": [
    "df_final['agent_os'].value_counts(ascending=True)"
   ]
  },
  {
   "cell_type": "code",
   "execution_count": 43,
   "metadata": {},
   "outputs": [
    {
     "data": {
      "text/plain": [
       "12.0.1       1\n",
       "4.2.2        1\n",
       "10.13.5      1\n",
       "10.3.1       1\n",
       "4.1.2        1\n",
       "          ... \n",
       "13.1.3     245\n",
       "8.0.0      334\n",
       "7          458\n",
       "10         542\n",
       "9          648\n",
       "Name: os.version, Length: 71, dtype: int64"
      ]
     },
     "execution_count": 43,
     "metadata": {},
     "output_type": "execute_result"
    }
   ],
   "source": [
    "df_final['os.version'].value_counts(ascending=True) #drop confonde"
   ]
  },
  {
   "cell_type": "code",
   "execution_count": 44,
   "metadata": {},
   "outputs": [
    {
     "data": {
      "text/plain": [
       "bingbot                 1\n",
       "Yandex Browser          1\n",
       "UNKNOWN                 1\n",
       "Googlebot               1\n",
       "Opera                   2\n",
       "Internet Explorer      79\n",
       "Edge                  131\n",
       "BingPreview           131\n",
       "Firefox               251\n",
       "Webview               259\n",
       "Safari                714\n",
       "Chrome               2232\n",
       "Name: agent_name, dtype: int64"
      ]
     },
     "execution_count": 44,
     "metadata": {},
     "output_type": "execute_result"
    }
   ],
   "source": [
    "df_final['agent_name'].value_counts(ascending=True)  #drop"
   ]
  },
  {
   "cell_type": "code",
   "execution_count": 45,
   "metadata": {},
   "outputs": [
    {
     "data": {
      "text/plain": [
       "59.0               1\n",
       "43.0.2357.93       1\n",
       "74.0.3729.108      1\n",
       "241.0.0            1\n",
       "240.0.0            1\n",
       "                ... \n",
       "10.1             203\n",
       "78.0.3904.62     227\n",
       "78.0.3904.87     274\n",
       "13.0.1           281\n",
       "78.0.3904.90     562\n",
       "Name: browser.version, Length: 138, dtype: int64"
      ]
     },
     "execution_count": 45,
     "metadata": {},
     "output_type": "execute_result"
    }
   ],
   "source": [
    "df_final['browser.version'].value_counts(ascending=True)"
   ]
  },
  {
   "cell_type": "code",
   "execution_count": 46,
   "metadata": {},
   "outputs": [
    {
     "data": {
      "text/plain": [
       "233.0       1\n",
       "64.0        1\n",
       "8.0         1\n",
       "19.0        1\n",
       "5.0         1\n",
       "         ... \n",
       "70.0      207\n",
       "10.0      234\n",
       "77.0      238\n",
       "13.0      429\n",
       "78.0     1362\n",
       "Name: browser.major_version, Length: 71, dtype: int64"
      ]
     },
     "execution_count": 46,
     "metadata": {},
     "output_type": "execute_result"
    }
   ],
   "source": [
    "df_final['browser.major_version'].value_counts(ascending=True) #drop confonde"
   ]
  },
  {
   "cell_type": "code",
   "execution_count": 47,
   "metadata": {},
   "outputs": [
    {
     "data": {
      "text/plain": [
       "0.0      16\n",
       "11.0     38\n",
       "4.0      68\n",
       "12.0    157\n",
       "5.0     168\n",
       "6.0     202\n",
       "13.0    372\n",
       "8.0     536\n",
       "9.0     707\n",
       "7.0     728\n",
       "10.0    811\n",
       "Name: os.major_version, dtype: int64"
      ]
     },
     "execution_count": 47,
     "metadata": {},
     "output_type": "execute_result"
    }
   ],
   "source": [
    "df_final['os.major_version'].value_counts(ascending=True) #drop confonde"
   ]
  },
  {
   "cell_type": "markdown",
   "metadata": {},
   "source": [
    "Qui effettuo una panoramica sui dispositivi utilizzati visto che reputo questa colonna una fonte di dati molto interessante"
   ]
  },
  {
   "cell_type": "code",
   "execution_count": 48,
   "metadata": {},
   "outputs": [
    {
     "data": {
      "text/plain": [
       "array(['Other', 'Generic Smartphone', 'LG-M250', 'iPhone',\n",
       "       'Samsung SM-A405FN', 'iPad', 'Samsung SM-A105FN',\n",
       "       'Samsung SM-J320F', 'Samsung SM-J530F', 'Samsung SM-J250Y',\n",
       "       'Samsung SM-J610FN', 'XiaoMi Redmi Note 5A', 'Samsung SM-N960F',\n",
       "       'Samsung SM-G950F', 'Samsung SM-J730F', 'Kindle', 'ANE-LX1',\n",
       "       'Lumia 1520', 'vivo 1603', 'Samsung SM-G930F', 'Samsung SM-G973F',\n",
       "       'Microsoft Lumia 540 Dual SIM', 'Samsung SM-T550',\n",
       "       'HUAWEI Y560-L01', 'Samsung SM-J500FN', 'Samsung SM-T720',\n",
       "       'COL-L29', 'Samsung SM-G965F', 'Samsung SM-A600FN',\n",
       "       'Samsung SM-J330FN', 'FIG-LX1', 'Samsung GT-I9301I', 'Asus Z00ED',\n",
       "       'FRD-L09', 'Samsung SM-J320FN', 'Spider', 'PRA-LX1', 'LG-D802',\n",
       "       'Samsung SM-A750FN', 'XiaoMi Redmi Note 7', 'Samsung SM-G960F',\n",
       "       'Samsung SM-A520F', 'Samsung SM-G955F', 'LG-D855',\n",
       "       'Samsung SM-G920F', 'Samsung SM-N910F', 'LG-M160',\n",
       "       'HUAWEI VNS-L21', 'Samsung SM-A920F', 'Samsung SM-J710F',\n",
       "       'Samsung GT-I9505', 'VTR-L09', 'Samsung SM-G975F', 'LON-L29',\n",
       "       'HUAWEI CRR-L09', 'Samsung GT-N5100', 'MYA-L11', 'HUAWEI SCL-L21',\n",
       "       'Samsung SM-T535', 'XiaoMi Redmi 3', 'Samsung SM-J510FN',\n",
       "       'LG-K420', 'HTC U11', 'EML-L09', 'ALE-L21', 'Lumia 630',\n",
       "       'Samsung SM-A805F', 'Asus Z017D', 'Samsung SCH-I545', 'Asus Z00AD',\n",
       "       'U FEEL', 'Samsung SM-J600FN', 'XiaoMi MI 9', 'Samsung SM-A605FN',\n",
       "       'DRA-L01', 'Samsung SM-A530F', 'Samsung SM-A510F',\n",
       "       'Samsung GT-I9195I', 'LG-H542', 'EVA-L09', 'Samsung SM-G925F',\n",
       "       'BLA-L29', 'LG-H840', 'RNE-L21', 'LG-M700', 'Samsung SM-A505FN',\n",
       "       'Microsoft Lumia 640 XL LTE Dual SIM', 'MZ-m3 note', 'ATU-L11',\n",
       "       'Samsung SM-G970F', 'SLA-L02', 'Samsung SM-N970F', 'LLD-L31',\n",
       "       'BKL-L09', 'Samsung SM-G935F', 'HUAWEI ATH-UL01', 'HMA-L29',\n",
       "       'VFD 720', 'Moto C', 'Samsung SM-A700F', 'XiaoMi Redmi 5 Plus',\n",
       "       'XiaoMi Redmi 4X', 'Samsung SM-G900F', 'LG-M200', 'Lenovo K33a48',\n",
       "       'XiaoMi Redmi Note 5', 'Samsung SM-G928F', 'Lumia 635',\n",
       "       'Samsung SM-T311', 'Samsung SM-J120FN', 'LG-H320', 'RNE-L01',\n",
       "       'OnePlus ONEPLUS A5000', 'LG-D722', 'Samsung SM-J415FN',\n",
       "       'Moto E (4) Plus', 'Samsung SM-T335', 'Samsung SM-A310F',\n",
       "       'Samsung SM-A500FU', 'WAS-LX1A', 'HUAWEI TAG-L01', '5046Y',\n",
       "       '5015D', 'Samsung SM-G531F', 'View2 Plus', 'LG-H420', 'SNE-LX1',\n",
       "       '9010X', 'vivo 1723', 'Samsung SM-N950F', 'HUAWEI LYO-L01',\n",
       "       'Samsung SM-G361F', 'Samsung SM-T585', 'Samsung SM-A320FL',\n",
       "       'LG-H410', 'Samsung SM-T819', 'Asus Z012S'], dtype=object)"
      ]
     },
     "execution_count": 48,
     "metadata": {},
     "output_type": "execute_result"
    }
   ],
   "source": [
    "df_final['device'].unique()"
   ]
  },
  {
   "cell_type": "markdown",
   "metadata": {},
   "source": [
    "Visto che ci sono molti modelli di poche case produttrici, vado a limitare il campo dei dispositivi a queste ultime"
   ]
  },
  {
   "cell_type": "code",
   "execution_count": 49,
   "metadata": {},
   "outputs": [],
   "source": [
    "df_final.loc[df_final['device'].str.contains('Samsung', case=False), 'device'] = 'Samsung'\n",
    "df_final.loc[df_final['device'].str.contains('Lumia', case=False), 'device'] = 'Lumia'\n",
    "df_final.loc[df_final['device'].str.contains('Huawei', case=False), 'device'] = 'Huawei'\n",
    "df_final.loc[df_final['device'].str.contains('XiaoMi', case=False), 'device'] = 'XiaoMi'\n",
    "df_final.loc[df_final['device'].str.contains('LG', case=False), 'device'] = 'LG'\n",
    "df_final.loc[df_final['device'].str.contains('Moto', case=False), 'device'] = 'Moto'\n",
    "df_final.loc[df_final['device'].str.contains('Asus', case=False), 'device'] = 'Asus'\n",
    "df_final.loc[df_final['device'].str.contains('vivo', case=False), 'device'] = 'Vivo'\n",
    "df_final.loc[df_final['device'].str.contains('OnePlus', case=False), 'device'] = 'OnePlus'\n",
    "df_final.loc[df_final['device'].str.contains('HTC', case=False), 'device'] = 'HTC'\n",
    "df_final.loc[df_final['device'].str.startswith('50'), 'device'] = 'Alcatel'\n",
    "df_final.loc[df_final['device'].str.startswith('90'), 'device'] = 'Alcatel'"
   ]
  },
  {
   "cell_type": "code",
   "execution_count": 50,
   "metadata": {},
   "outputs": [
    {
     "data": {
      "text/plain": [
       "array(['Other', 'Generic Smartphone', 'LG', 'iPhone', 'Samsung', 'iPad',\n",
       "       'XiaoMi', 'Kindle', 'ANE-LX1', 'Lumia', 'Vivo', 'Huawei',\n",
       "       'COL-L29', 'FIG-LX1', 'Asus', 'FRD-L09', 'Spider', 'PRA-LX1',\n",
       "       'VTR-L09', 'LON-L29', 'MYA-L11', 'HTC', 'EML-L09', 'ALE-L21',\n",
       "       'U FEEL', 'DRA-L01', 'EVA-L09', 'BLA-L29', 'RNE-L21', 'MZ-m3 note',\n",
       "       'ATU-L11', 'SLA-L02', 'LLD-L31', 'BKL-L09', 'HMA-L29', 'VFD 720',\n",
       "       'Moto', 'Lenovo K33a48', 'RNE-L01', 'OnePlus', 'WAS-LX1A',\n",
       "       'Alcatel', 'View2 Plus', 'SNE-LX1'], dtype=object)"
      ]
     },
     "execution_count": 50,
     "metadata": {},
     "output_type": "execute_result"
    }
   ],
   "source": [
    "df_final['device'].unique()"
   ]
  },
  {
   "cell_type": "code",
   "execution_count": 51,
   "metadata": {},
   "outputs": [],
   "source": [
    "df_final.loc[df_final['device'].str.contains('-L', case=False), 'device'] = 'Huawei'\n",
    "# sono quei modelli in cui il produttore non è specificato (es. COL-L29) possono essere identificati dalla coppia di \n",
    "#caratteri -L e sono modelli prodotti da Huawei"
   ]
  },
  {
   "cell_type": "code",
   "execution_count": 52,
   "metadata": {},
   "outputs": [
    {
     "data": {
      "text/plain": [
       "array(['Other', 'Generic Smartphone', 'LG', 'iPhone', 'Samsung', 'iPad',\n",
       "       'XiaoMi', 'Kindle', 'Huawei', 'Lumia', 'Vivo', 'Asus', 'Spider',\n",
       "       'HTC', 'U FEEL', 'MZ-m3 note', 'VFD 720', 'Moto', 'Lenovo K33a48',\n",
       "       'OnePlus', 'Alcatel', 'View2 Plus'], dtype=object)"
      ]
     },
     "execution_count": 52,
     "metadata": {},
     "output_type": "execute_result"
    }
   ],
   "source": [
    "df_final['device'].unique() #Adesso risulta più leggibile"
   ]
  },
  {
   "cell_type": "markdown",
   "metadata": {},
   "source": [
    "Di seguito i drop decisi nelle celle precedenti"
   ]
  },
  {
   "cell_type": "code",
   "execution_count": 53,
   "metadata": {},
   "outputs": [],
   "source": [
    "df_final.drop(['user','host','method','code','size','referer_known','hostname','event_tag'], axis=1, inplace=True)"
   ]
  },
  {
   "cell_type": "code",
   "execution_count": 54,
   "metadata": {},
   "outputs": [],
   "source": [
    "df_final.drop(['remote','http_x_forwarded_for','created'], axis=1, inplace=True)"
   ]
  },
  {
   "cell_type": "code",
   "execution_count": 55,
   "metadata": {},
   "outputs": [],
   "source": [
    "df_final.drop(['os.major_version'], axis=1, inplace=True) "
   ]
  },
  {
   "cell_type": "code",
   "execution_count": 56,
   "metadata": {},
   "outputs": [],
   "source": [
    "df_final.drop(['referer','uri_url_hash'], axis=1, inplace=True)\n"
   ]
  },
  {
   "cell_type": "code",
   "execution_count": 57,
   "metadata": {},
   "outputs": [],
   "source": [
    "df_final.drop(['time'], axis=1, inplace=True)"
   ]
  },
  {
   "cell_type": "code",
   "execution_count": 58,
   "metadata": {},
   "outputs": [],
   "source": [
    "df_final.drop(['browser.version','browser.major_version','os.version'], axis=1, inplace=True)"
   ]
  },
  {
   "cell_type": "markdown",
   "metadata": {},
   "source": [
    "<h4>Le operazioni precedenti sono state effettuate con lo scopo di estrarre dal dataset le informazioni a mio avviso pù interessanti ovvero quelle relative alle componenti hardware e software utilizzate per navigare sul sito</h4>"
   ]
  },
  {
   "cell_type": "code",
   "execution_count": 59,
   "metadata": {},
   "outputs": [
    {
     "data": {
      "text/plain": [
       "(3803, 6)"
      ]
     },
     "execution_count": 59,
     "metadata": {},
     "output_type": "execute_result"
    }
   ],
   "source": [
    "df_final.shape"
   ]
  },
  {
   "cell_type": "code",
   "execution_count": 60,
   "metadata": {},
   "outputs": [
    {
     "data": {
      "text/plain": [
       "Index(['agent_name', 'agent_category', 'agent_os', 'device', 'browser.family',\n",
       "       'os.family'],\n",
       "      dtype='object')"
      ]
     },
     "execution_count": 60,
     "metadata": {},
     "output_type": "execute_result"
    }
   ],
   "source": [
    "df_final.columns"
   ]
  },
  {
   "cell_type": "code",
   "execution_count": 61,
   "metadata": {},
   "outputs": [],
   "source": [
    "df_final.reset_index(drop=True, inplace=True)"
   ]
  },
  {
   "cell_type": "code",
   "execution_count": 62,
   "metadata": {},
   "outputs": [
    {
     "data": {
      "text/html": [
       "<div>\n",
       "<style scoped>\n",
       "    .dataframe tbody tr th:only-of-type {\n",
       "        vertical-align: middle;\n",
       "    }\n",
       "\n",
       "    .dataframe tbody tr th {\n",
       "        vertical-align: top;\n",
       "    }\n",
       "\n",
       "    .dataframe thead th {\n",
       "        text-align: right;\n",
       "    }\n",
       "</style>\n",
       "<table border=\"1\" class=\"dataframe\">\n",
       "  <thead>\n",
       "    <tr style=\"text-align: right;\">\n",
       "      <th></th>\n",
       "      <th>agent_name</th>\n",
       "      <th>agent_category</th>\n",
       "      <th>agent_os</th>\n",
       "      <th>device</th>\n",
       "      <th>browser.family</th>\n",
       "      <th>os.family</th>\n",
       "    </tr>\n",
       "  </thead>\n",
       "  <tbody>\n",
       "    <tr>\n",
       "      <th>0</th>\n",
       "      <td>Chrome</td>\n",
       "      <td>pc</td>\n",
       "      <td>Windows 10</td>\n",
       "      <td>Other</td>\n",
       "      <td>Chrome</td>\n",
       "      <td>Windows</td>\n",
       "    </tr>\n",
       "    <tr>\n",
       "      <th>1</th>\n",
       "      <td>Firefox</td>\n",
       "      <td>pc</td>\n",
       "      <td>Windows 10</td>\n",
       "      <td>Other</td>\n",
       "      <td>Firefox</td>\n",
       "      <td>Windows</td>\n",
       "    </tr>\n",
       "    <tr>\n",
       "      <th>2</th>\n",
       "      <td>Chrome</td>\n",
       "      <td>smartphone</td>\n",
       "      <td>Android</td>\n",
       "      <td>Generic Smartphone</td>\n",
       "      <td>Chrome</td>\n",
       "      <td>Android</td>\n",
       "    </tr>\n",
       "    <tr>\n",
       "      <th>3</th>\n",
       "      <td>Chrome</td>\n",
       "      <td>pc</td>\n",
       "      <td>Windows 7</td>\n",
       "      <td>Other</td>\n",
       "      <td>Chrome</td>\n",
       "      <td>Windows</td>\n",
       "    </tr>\n",
       "    <tr>\n",
       "      <th>4</th>\n",
       "      <td>Chrome</td>\n",
       "      <td>smartphone</td>\n",
       "      <td>Android</td>\n",
       "      <td>Generic Smartphone</td>\n",
       "      <td>Chrome Mobile</td>\n",
       "      <td>Android</td>\n",
       "    </tr>\n",
       "  </tbody>\n",
       "</table>\n",
       "</div>"
      ],
      "text/plain": [
       "  agent_name agent_category    agent_os              device browser.family  \\\n",
       "0     Chrome             pc  Windows 10               Other         Chrome   \n",
       "1    Firefox             pc  Windows 10               Other        Firefox   \n",
       "2     Chrome     smartphone     Android  Generic Smartphone         Chrome   \n",
       "3     Chrome             pc   Windows 7               Other         Chrome   \n",
       "4     Chrome     smartphone     Android  Generic Smartphone  Chrome Mobile   \n",
       "\n",
       "  os.family  \n",
       "0   Windows  \n",
       "1   Windows  \n",
       "2   Android  \n",
       "3   Windows  \n",
       "4   Android  "
      ]
     },
     "execution_count": 62,
     "metadata": {},
     "output_type": "execute_result"
    }
   ],
   "source": [
    "df_final.head()"
   ]
  },
  {
   "cell_type": "code",
   "execution_count": 63,
   "metadata": {},
   "outputs": [],
   "source": [
    "df_encoded = pd.get_dummies(df_final)"
   ]
  },
  {
   "cell_type": "code",
   "execution_count": 64,
   "metadata": {},
   "outputs": [
    {
     "data": {
      "text/html": [
       "<div>\n",
       "<style scoped>\n",
       "    .dataframe tbody tr th:only-of-type {\n",
       "        vertical-align: middle;\n",
       "    }\n",
       "\n",
       "    .dataframe tbody tr th {\n",
       "        vertical-align: top;\n",
       "    }\n",
       "\n",
       "    .dataframe thead th {\n",
       "        text-align: right;\n",
       "    }\n",
       "</style>\n",
       "<table border=\"1\" class=\"dataframe\">\n",
       "  <thead>\n",
       "    <tr style=\"text-align: right;\">\n",
       "      <th></th>\n",
       "      <th>agent_name_BingPreview</th>\n",
       "      <th>agent_name_Chrome</th>\n",
       "      <th>agent_name_Edge</th>\n",
       "      <th>agent_name_Firefox</th>\n",
       "      <th>agent_name_Googlebot</th>\n",
       "      <th>agent_name_Internet Explorer</th>\n",
       "      <th>agent_name_Opera</th>\n",
       "      <th>agent_name_Safari</th>\n",
       "      <th>agent_name_UNKNOWN</th>\n",
       "      <th>agent_name_Webview</th>\n",
       "      <th>...</th>\n",
       "      <th>browser.family_Opera Mobile</th>\n",
       "      <th>browser.family_Safari</th>\n",
       "      <th>browser.family_Samsung Internet</th>\n",
       "      <th>browser.family_Yandex Browser</th>\n",
       "      <th>browser.family_bingbot</th>\n",
       "      <th>os.family_Android</th>\n",
       "      <th>os.family_Mac OS X</th>\n",
       "      <th>os.family_Windows</th>\n",
       "      <th>os.family_Windows Phone</th>\n",
       "      <th>os.family_iOS</th>\n",
       "    </tr>\n",
       "  </thead>\n",
       "  <tbody>\n",
       "    <tr>\n",
       "      <th>0</th>\n",
       "      <td>0</td>\n",
       "      <td>1</td>\n",
       "      <td>0</td>\n",
       "      <td>0</td>\n",
       "      <td>0</td>\n",
       "      <td>0</td>\n",
       "      <td>0</td>\n",
       "      <td>0</td>\n",
       "      <td>0</td>\n",
       "      <td>0</td>\n",
       "      <td>...</td>\n",
       "      <td>0</td>\n",
       "      <td>0</td>\n",
       "      <td>0</td>\n",
       "      <td>0</td>\n",
       "      <td>0</td>\n",
       "      <td>0</td>\n",
       "      <td>0</td>\n",
       "      <td>1</td>\n",
       "      <td>0</td>\n",
       "      <td>0</td>\n",
       "    </tr>\n",
       "    <tr>\n",
       "      <th>1</th>\n",
       "      <td>0</td>\n",
       "      <td>0</td>\n",
       "      <td>0</td>\n",
       "      <td>1</td>\n",
       "      <td>0</td>\n",
       "      <td>0</td>\n",
       "      <td>0</td>\n",
       "      <td>0</td>\n",
       "      <td>0</td>\n",
       "      <td>0</td>\n",
       "      <td>...</td>\n",
       "      <td>0</td>\n",
       "      <td>0</td>\n",
       "      <td>0</td>\n",
       "      <td>0</td>\n",
       "      <td>0</td>\n",
       "      <td>0</td>\n",
       "      <td>0</td>\n",
       "      <td>1</td>\n",
       "      <td>0</td>\n",
       "      <td>0</td>\n",
       "    </tr>\n",
       "    <tr>\n",
       "      <th>2</th>\n",
       "      <td>0</td>\n",
       "      <td>1</td>\n",
       "      <td>0</td>\n",
       "      <td>0</td>\n",
       "      <td>0</td>\n",
       "      <td>0</td>\n",
       "      <td>0</td>\n",
       "      <td>0</td>\n",
       "      <td>0</td>\n",
       "      <td>0</td>\n",
       "      <td>...</td>\n",
       "      <td>0</td>\n",
       "      <td>0</td>\n",
       "      <td>0</td>\n",
       "      <td>0</td>\n",
       "      <td>0</td>\n",
       "      <td>1</td>\n",
       "      <td>0</td>\n",
       "      <td>0</td>\n",
       "      <td>0</td>\n",
       "      <td>0</td>\n",
       "    </tr>\n",
       "    <tr>\n",
       "      <th>3</th>\n",
       "      <td>0</td>\n",
       "      <td>1</td>\n",
       "      <td>0</td>\n",
       "      <td>0</td>\n",
       "      <td>0</td>\n",
       "      <td>0</td>\n",
       "      <td>0</td>\n",
       "      <td>0</td>\n",
       "      <td>0</td>\n",
       "      <td>0</td>\n",
       "      <td>...</td>\n",
       "      <td>0</td>\n",
       "      <td>0</td>\n",
       "      <td>0</td>\n",
       "      <td>0</td>\n",
       "      <td>0</td>\n",
       "      <td>0</td>\n",
       "      <td>0</td>\n",
       "      <td>1</td>\n",
       "      <td>0</td>\n",
       "      <td>0</td>\n",
       "    </tr>\n",
       "    <tr>\n",
       "      <th>4</th>\n",
       "      <td>0</td>\n",
       "      <td>1</td>\n",
       "      <td>0</td>\n",
       "      <td>0</td>\n",
       "      <td>0</td>\n",
       "      <td>0</td>\n",
       "      <td>0</td>\n",
       "      <td>0</td>\n",
       "      <td>0</td>\n",
       "      <td>0</td>\n",
       "      <td>...</td>\n",
       "      <td>0</td>\n",
       "      <td>0</td>\n",
       "      <td>0</td>\n",
       "      <td>0</td>\n",
       "      <td>0</td>\n",
       "      <td>1</td>\n",
       "      <td>0</td>\n",
       "      <td>0</td>\n",
       "      <td>0</td>\n",
       "      <td>0</td>\n",
       "    </tr>\n",
       "  </tbody>\n",
       "</table>\n",
       "<p>5 rows × 77 columns</p>\n",
       "</div>"
      ],
      "text/plain": [
       "   agent_name_BingPreview  agent_name_Chrome  agent_name_Edge  \\\n",
       "0                       0                  1                0   \n",
       "1                       0                  0                0   \n",
       "2                       0                  1                0   \n",
       "3                       0                  1                0   \n",
       "4                       0                  1                0   \n",
       "\n",
       "   agent_name_Firefox  agent_name_Googlebot  agent_name_Internet Explorer  \\\n",
       "0                   0                     0                             0   \n",
       "1                   1                     0                             0   \n",
       "2                   0                     0                             0   \n",
       "3                   0                     0                             0   \n",
       "4                   0                     0                             0   \n",
       "\n",
       "   agent_name_Opera  agent_name_Safari  agent_name_UNKNOWN  \\\n",
       "0                 0                  0                   0   \n",
       "1                 0                  0                   0   \n",
       "2                 0                  0                   0   \n",
       "3                 0                  0                   0   \n",
       "4                 0                  0                   0   \n",
       "\n",
       "   agent_name_Webview  ...  browser.family_Opera Mobile  \\\n",
       "0                   0  ...                            0   \n",
       "1                   0  ...                            0   \n",
       "2                   0  ...                            0   \n",
       "3                   0  ...                            0   \n",
       "4                   0  ...                            0   \n",
       "\n",
       "   browser.family_Safari  browser.family_Samsung Internet  \\\n",
       "0                      0                                0   \n",
       "1                      0                                0   \n",
       "2                      0                                0   \n",
       "3                      0                                0   \n",
       "4                      0                                0   \n",
       "\n",
       "   browser.family_Yandex Browser  browser.family_bingbot  os.family_Android  \\\n",
       "0                              0                       0                  0   \n",
       "1                              0                       0                  0   \n",
       "2                              0                       0                  1   \n",
       "3                              0                       0                  0   \n",
       "4                              0                       0                  1   \n",
       "\n",
       "   os.family_Mac OS X  os.family_Windows  os.family_Windows Phone  \\\n",
       "0                   0                  1                        0   \n",
       "1                   0                  1                        0   \n",
       "2                   0                  0                        0   \n",
       "3                   0                  1                        0   \n",
       "4                   0                  0                        0   \n",
       "\n",
       "   os.family_iOS  \n",
       "0              0  \n",
       "1              0  \n",
       "2              0  \n",
       "3              0  \n",
       "4              0  \n",
       "\n",
       "[5 rows x 77 columns]"
      ]
     },
     "execution_count": 64,
     "metadata": {},
     "output_type": "execute_result"
    }
   ],
   "source": [
    "df_encoded.head()"
   ]
  },
  {
   "cell_type": "code",
   "execution_count": 65,
   "metadata": {},
   "outputs": [
    {
     "data": {
      "text/plain": [
       "(3803, 77)"
      ]
     },
     "execution_count": 65,
     "metadata": {},
     "output_type": "execute_result"
    }
   ],
   "source": [
    "df_encoded.shape"
   ]
  },
  {
   "cell_type": "code",
   "execution_count": 66,
   "metadata": {},
   "outputs": [
    {
     "data": {
      "text/plain": [
       "agent_name_BingPreview     0\n",
       "agent_name_Chrome          0\n",
       "agent_name_Edge            0\n",
       "agent_name_Firefox         0\n",
       "agent_name_Googlebot       0\n",
       "                          ..\n",
       "os.family_Android          0\n",
       "os.family_Mac OS X         0\n",
       "os.family_Windows          0\n",
       "os.family_Windows Phone    0\n",
       "os.family_iOS              0\n",
       "Length: 77, dtype: int64"
      ]
     },
     "execution_count": 66,
     "metadata": {},
     "output_type": "execute_result"
    }
   ],
   "source": [
    "df_encoded.isnull().sum(axis = 0)"
   ]
  },
  {
   "cell_type": "markdown",
   "metadata": {},
   "source": [
    "<h2>Calcolo dell'elbow </h2>"
   ]
  },
  {
   "cell_type": "code",
   "execution_count": 67,
   "metadata": {},
   "outputs": [
    {
     "data": {
      "image/png": "[encoded data removed]",
      "text/plain": [
       "<Figure size 432x288 with 1 Axes>"
      ]
     },
     "metadata": {},
     "output_type": "display_data"
    }
   ],
   "source": [
    "sse = []\n",
    "for k in range(1, 11):\n",
    "    kmeans = KMeans(n_clusters=k).fit(df_encoded)\n",
    "    sse.append(kmeans.inertia_)\n",
    "plt.plot(range(1, 11), sse, marker='o')\n",
    "plt.xlabel('Number of clusters')\n",
    "plt.ylabel('SSE')\n",
    "plt.show()\n",
    "#Valore ottimale 3"
   ]
  },
  {
   "cell_type": "markdown",
   "metadata": {},
   "source": [
    "<h2>Clustering attraverso K-Means</h2>"
   ]
  },
  {
   "cell_type": "code",
   "execution_count": 68,
   "metadata": {},
   "outputs": [],
   "source": [
    "kclusters = 3 #scelta attraverso il grafico della elbow\n",
    "\n",
    "kmeans = KMeans(n_clusters=kclusters, max_iter=300, random_state=7).fit(df_encoded)"
   ]
  },
  {
   "cell_type": "code",
   "execution_count": 69,
   "metadata": {},
   "outputs": [
    {
     "name": "stdout",
     "output_type": "stream",
     "text": [
      "[1 1 2 ... 0 0 1]\n"
     ]
    }
   ],
   "source": [
    "labels = kmeans.labels_\n",
    "print(labels)"
   ]
  },
  {
   "cell_type": "code",
   "execution_count": 70,
   "metadata": {},
   "outputs": [],
   "source": [
    "df_final[\"cluster\"] = labels #aggiungo i cluster al df"
   ]
  },
  {
   "cell_type": "code",
   "execution_count": 71,
   "metadata": {},
   "outputs": [
    {
     "data": {
      "text/plain": [
       "0     717\n",
       "1    1288\n",
       "2    1798\n",
       "Name: cluster, dtype: int64"
      ]
     },
     "execution_count": 71,
     "metadata": {},
     "output_type": "execute_result"
    }
   ],
   "source": [
    "df_final['cluster'].value_counts(ascending=True)"
   ]
  },
  {
   "cell_type": "markdown",
   "metadata": {},
   "source": [
    "<h1>Rappresentazione dei cluster e considerazioni finali<h1>"
   ]
  },
  {
   "cell_type": "code",
   "execution_count": 72,
   "metadata": {},
   "outputs": [],
   "source": [
    "cluster_0 = df_final.loc[df_final['cluster'] == 0, df_final.columns[[0]\n",
    "+ list(range(1, df_final.shape[1]))]]"
   ]
  },
  {
   "cell_type": "code",
   "execution_count": 73,
   "metadata": {},
   "outputs": [],
   "source": [
    "cluster_0.reset_index(drop=True, inplace=True)"
   ]
  },
  {
   "cell_type": "code",
   "execution_count": 74,
   "metadata": {},
   "outputs": [
    {
     "data": {
      "text/html": [
       "<div>\n",
       "<style scoped>\n",
       "    .dataframe tbody tr th:only-of-type {\n",
       "        vertical-align: middle;\n",
       "    }\n",
       "\n",
       "    .dataframe tbody tr th {\n",
       "        vertical-align: top;\n",
       "    }\n",
       "\n",
       "    .dataframe thead th {\n",
       "        text-align: right;\n",
       "    }\n",
       "</style>\n",
       "<table border=\"1\" class=\"dataframe\">\n",
       "  <thead>\n",
       "    <tr style=\"text-align: right;\">\n",
       "      <th></th>\n",
       "      <th>agent_name</th>\n",
       "      <th>agent_category</th>\n",
       "      <th>agent_os</th>\n",
       "      <th>device</th>\n",
       "      <th>browser.family</th>\n",
       "      <th>os.family</th>\n",
       "      <th>cluster</th>\n",
       "    </tr>\n",
       "  </thead>\n",
       "  <tbody>\n",
       "    <tr>\n",
       "      <th>0</th>\n",
       "      <td>Safari</td>\n",
       "      <td>smartphone</td>\n",
       "      <td>iPhone</td>\n",
       "      <td>iPhone</td>\n",
       "      <td>Mobile Safari</td>\n",
       "      <td>iOS</td>\n",
       "      <td>0</td>\n",
       "    </tr>\n",
       "    <tr>\n",
       "      <th>1</th>\n",
       "      <td>Chrome</td>\n",
       "      <td>smartphone</td>\n",
       "      <td>iPad</td>\n",
       "      <td>iPad</td>\n",
       "      <td>Chrome Mobile iOS</td>\n",
       "      <td>iOS</td>\n",
       "      <td>0</td>\n",
       "    </tr>\n",
       "    <tr>\n",
       "      <th>2</th>\n",
       "      <td>Safari</td>\n",
       "      <td>smartphone</td>\n",
       "      <td>iPad</td>\n",
       "      <td>iPad</td>\n",
       "      <td>Mobile Safari</td>\n",
       "      <td>iOS</td>\n",
       "      <td>0</td>\n",
       "    </tr>\n",
       "    <tr>\n",
       "      <th>3</th>\n",
       "      <td>Safari</td>\n",
       "      <td>smartphone</td>\n",
       "      <td>iPad</td>\n",
       "      <td>iPad</td>\n",
       "      <td>Mobile Safari</td>\n",
       "      <td>iOS</td>\n",
       "      <td>0</td>\n",
       "    </tr>\n",
       "    <tr>\n",
       "      <th>4</th>\n",
       "      <td>Safari</td>\n",
       "      <td>smartphone</td>\n",
       "      <td>iPhone</td>\n",
       "      <td>iPhone</td>\n",
       "      <td>Mobile Safari</td>\n",
       "      <td>iOS</td>\n",
       "      <td>0</td>\n",
       "    </tr>\n",
       "    <tr>\n",
       "      <th>...</th>\n",
       "      <td>...</td>\n",
       "      <td>...</td>\n",
       "      <td>...</td>\n",
       "      <td>...</td>\n",
       "      <td>...</td>\n",
       "      <td>...</td>\n",
       "      <td>...</td>\n",
       "    </tr>\n",
       "    <tr>\n",
       "      <th>712</th>\n",
       "      <td>Safari</td>\n",
       "      <td>smartphone</td>\n",
       "      <td>iPhone</td>\n",
       "      <td>iPhone</td>\n",
       "      <td>Mobile Safari</td>\n",
       "      <td>iOS</td>\n",
       "      <td>0</td>\n",
       "    </tr>\n",
       "    <tr>\n",
       "      <th>713</th>\n",
       "      <td>Webview</td>\n",
       "      <td>smartphone</td>\n",
       "      <td>iPhone</td>\n",
       "      <td>iPhone</td>\n",
       "      <td>Mobile Safari UI/WKWebView</td>\n",
       "      <td>iOS</td>\n",
       "      <td>0</td>\n",
       "    </tr>\n",
       "    <tr>\n",
       "      <th>714</th>\n",
       "      <td>Safari</td>\n",
       "      <td>smartphone</td>\n",
       "      <td>iPhone</td>\n",
       "      <td>iPhone</td>\n",
       "      <td>Mobile Safari</td>\n",
       "      <td>iOS</td>\n",
       "      <td>0</td>\n",
       "    </tr>\n",
       "    <tr>\n",
       "      <th>715</th>\n",
       "      <td>Safari</td>\n",
       "      <td>smartphone</td>\n",
       "      <td>iPhone</td>\n",
       "      <td>iPhone</td>\n",
       "      <td>Mobile Safari</td>\n",
       "      <td>iOS</td>\n",
       "      <td>0</td>\n",
       "    </tr>\n",
       "    <tr>\n",
       "      <th>716</th>\n",
       "      <td>Safari</td>\n",
       "      <td>smartphone</td>\n",
       "      <td>iPad</td>\n",
       "      <td>iPad</td>\n",
       "      <td>Mobile Safari</td>\n",
       "      <td>iOS</td>\n",
       "      <td>0</td>\n",
       "    </tr>\n",
       "  </tbody>\n",
       "</table>\n",
       "<p>717 rows × 7 columns</p>\n",
       "</div>"
      ],
      "text/plain": [
       "    agent_name agent_category agent_os  device              browser.family  \\\n",
       "0       Safari     smartphone   iPhone  iPhone               Mobile Safari   \n",
       "1       Chrome     smartphone     iPad    iPad           Chrome Mobile iOS   \n",
       "2       Safari     smartphone     iPad    iPad               Mobile Safari   \n",
       "3       Safari     smartphone     iPad    iPad               Mobile Safari   \n",
       "4       Safari     smartphone   iPhone  iPhone               Mobile Safari   \n",
       "..         ...            ...      ...     ...                         ...   \n",
       "712     Safari     smartphone   iPhone  iPhone               Mobile Safari   \n",
       "713    Webview     smartphone   iPhone  iPhone  Mobile Safari UI/WKWebView   \n",
       "714     Safari     smartphone   iPhone  iPhone               Mobile Safari   \n",
       "715     Safari     smartphone   iPhone  iPhone               Mobile Safari   \n",
       "716     Safari     smartphone     iPad    iPad               Mobile Safari   \n",
       "\n",
       "    os.family  cluster  \n",
       "0         iOS        0  \n",
       "1         iOS        0  \n",
       "2         iOS        0  \n",
       "3         iOS        0  \n",
       "4         iOS        0  \n",
       "..        ...      ...  \n",
       "712       iOS        0  \n",
       "713       iOS        0  \n",
       "714       iOS        0  \n",
       "715       iOS        0  \n",
       "716       iOS        0  \n",
       "\n",
       "[717 rows x 7 columns]"
      ]
     },
     "execution_count": 74,
     "metadata": {},
     "output_type": "execute_result"
    }
   ],
   "source": [
    "cluster_0"
   ]
  },
  {
   "cell_type": "code",
   "execution_count": 75,
   "metadata": {},
   "outputs": [],
   "source": [
    "cluster_1 = df_final.loc[df_final['cluster'] == 1, df_final.columns[[0]\n",
    "+ list(range(1, df_final.shape[1]))]]"
   ]
  },
  {
   "cell_type": "code",
   "execution_count": 76,
   "metadata": {},
   "outputs": [],
   "source": [
    "cluster_1.reset_index(drop=True, inplace=True)"
   ]
  },
  {
   "cell_type": "code",
   "execution_count": 77,
   "metadata": {},
   "outputs": [
    {
     "data": {
      "text/html": [
       "<div>\n",
       "<style scoped>\n",
       "    .dataframe tbody tr th:only-of-type {\n",
       "        vertical-align: middle;\n",
       "    }\n",
       "\n",
       "    .dataframe tbody tr th {\n",
       "        vertical-align: top;\n",
       "    }\n",
       "\n",
       "    .dataframe thead th {\n",
       "        text-align: right;\n",
       "    }\n",
       "</style>\n",
       "<table border=\"1\" class=\"dataframe\">\n",
       "  <thead>\n",
       "    <tr style=\"text-align: right;\">\n",
       "      <th></th>\n",
       "      <th>agent_name</th>\n",
       "      <th>agent_category</th>\n",
       "      <th>agent_os</th>\n",
       "      <th>device</th>\n",
       "      <th>browser.family</th>\n",
       "      <th>os.family</th>\n",
       "      <th>cluster</th>\n",
       "    </tr>\n",
       "  </thead>\n",
       "  <tbody>\n",
       "    <tr>\n",
       "      <th>0</th>\n",
       "      <td>Chrome</td>\n",
       "      <td>pc</td>\n",
       "      <td>Windows 10</td>\n",
       "      <td>Other</td>\n",
       "      <td>Chrome</td>\n",
       "      <td>Windows</td>\n",
       "      <td>1</td>\n",
       "    </tr>\n",
       "    <tr>\n",
       "      <th>1</th>\n",
       "      <td>Firefox</td>\n",
       "      <td>pc</td>\n",
       "      <td>Windows 10</td>\n",
       "      <td>Other</td>\n",
       "      <td>Firefox</td>\n",
       "      <td>Windows</td>\n",
       "      <td>1</td>\n",
       "    </tr>\n",
       "    <tr>\n",
       "      <th>2</th>\n",
       "      <td>Chrome</td>\n",
       "      <td>pc</td>\n",
       "      <td>Windows 7</td>\n",
       "      <td>Other</td>\n",
       "      <td>Chrome</td>\n",
       "      <td>Windows</td>\n",
       "      <td>1</td>\n",
       "    </tr>\n",
       "    <tr>\n",
       "      <th>3</th>\n",
       "      <td>Chrome</td>\n",
       "      <td>pc</td>\n",
       "      <td>Windows 7</td>\n",
       "      <td>Other</td>\n",
       "      <td>Chrome</td>\n",
       "      <td>Windows</td>\n",
       "      <td>1</td>\n",
       "    </tr>\n",
       "    <tr>\n",
       "      <th>4</th>\n",
       "      <td>Edge</td>\n",
       "      <td>pc</td>\n",
       "      <td>Windows 10</td>\n",
       "      <td>Other</td>\n",
       "      <td>Edge</td>\n",
       "      <td>Windows</td>\n",
       "      <td>1</td>\n",
       "    </tr>\n",
       "    <tr>\n",
       "      <th>...</th>\n",
       "      <td>...</td>\n",
       "      <td>...</td>\n",
       "      <td>...</td>\n",
       "      <td>...</td>\n",
       "      <td>...</td>\n",
       "      <td>...</td>\n",
       "      <td>...</td>\n",
       "    </tr>\n",
       "    <tr>\n",
       "      <th>1283</th>\n",
       "      <td>Internet Explorer</td>\n",
       "      <td>pc</td>\n",
       "      <td>Windows 8.1</td>\n",
       "      <td>Other</td>\n",
       "      <td>IE</td>\n",
       "      <td>Windows</td>\n",
       "      <td>1</td>\n",
       "    </tr>\n",
       "    <tr>\n",
       "      <th>1284</th>\n",
       "      <td>Chrome</td>\n",
       "      <td>pc</td>\n",
       "      <td>Windows 10</td>\n",
       "      <td>Other</td>\n",
       "      <td>Chrome</td>\n",
       "      <td>Windows</td>\n",
       "      <td>1</td>\n",
       "    </tr>\n",
       "    <tr>\n",
       "      <th>1285</th>\n",
       "      <td>Chrome</td>\n",
       "      <td>pc</td>\n",
       "      <td>Windows 10</td>\n",
       "      <td>Other</td>\n",
       "      <td>Chrome</td>\n",
       "      <td>Windows</td>\n",
       "      <td>1</td>\n",
       "    </tr>\n",
       "    <tr>\n",
       "      <th>1286</th>\n",
       "      <td>Safari</td>\n",
       "      <td>pc</td>\n",
       "      <td>Mac OSX</td>\n",
       "      <td>Other</td>\n",
       "      <td>Safari</td>\n",
       "      <td>Mac OS X</td>\n",
       "      <td>1</td>\n",
       "    </tr>\n",
       "    <tr>\n",
       "      <th>1287</th>\n",
       "      <td>Safari</td>\n",
       "      <td>pc</td>\n",
       "      <td>Mac OSX</td>\n",
       "      <td>Other</td>\n",
       "      <td>Safari</td>\n",
       "      <td>Mac OS X</td>\n",
       "      <td>1</td>\n",
       "    </tr>\n",
       "  </tbody>\n",
       "</table>\n",
       "<p>1288 rows × 7 columns</p>\n",
       "</div>"
      ],
      "text/plain": [
       "             agent_name agent_category     agent_os device browser.family  \\\n",
       "0                Chrome             pc   Windows 10  Other         Chrome   \n",
       "1               Firefox             pc   Windows 10  Other        Firefox   \n",
       "2                Chrome             pc    Windows 7  Other         Chrome   \n",
       "3                Chrome             pc    Windows 7  Other         Chrome   \n",
       "4                  Edge             pc   Windows 10  Other           Edge   \n",
       "...                 ...            ...          ...    ...            ...   \n",
       "1283  Internet Explorer             pc  Windows 8.1  Other             IE   \n",
       "1284             Chrome             pc   Windows 10  Other         Chrome   \n",
       "1285             Chrome             pc   Windows 10  Other         Chrome   \n",
       "1286             Safari             pc      Mac OSX  Other         Safari   \n",
       "1287             Safari             pc      Mac OSX  Other         Safari   \n",
       "\n",
       "     os.family  cluster  \n",
       "0      Windows        1  \n",
       "1      Windows        1  \n",
       "2      Windows        1  \n",
       "3      Windows        1  \n",
       "4      Windows        1  \n",
       "...        ...      ...  \n",
       "1283   Windows        1  \n",
       "1284   Windows        1  \n",
       "1285   Windows        1  \n",
       "1286  Mac OS X        1  \n",
       "1287  Mac OS X        1  \n",
       "\n",
       "[1288 rows x 7 columns]"
      ]
     },
     "execution_count": 77,
     "metadata": {},
     "output_type": "execute_result"
    }
   ],
   "source": [
    "cluster_1"
   ]
  },
  {
   "cell_type": "code",
   "execution_count": 78,
   "metadata": {},
   "outputs": [],
   "source": [
    "cluster_2 = df_final.loc[df_final['cluster'] == 2, df_final.columns[[0]\n",
    "+ list(range(1, df_final.shape[1]))]]"
   ]
  },
  {
   "cell_type": "code",
   "execution_count": 79,
   "metadata": {},
   "outputs": [],
   "source": [
    "cluster_2.reset_index(drop=True, inplace=True)"
   ]
  },
  {
   "cell_type": "code",
   "execution_count": 80,
   "metadata": {},
   "outputs": [
    {
     "data": {
      "text/html": [
       "<div>\n",
       "<style scoped>\n",
       "    .dataframe tbody tr th:only-of-type {\n",
       "        vertical-align: middle;\n",
       "    }\n",
       "\n",
       "    .dataframe tbody tr th {\n",
       "        vertical-align: top;\n",
       "    }\n",
       "\n",
       "    .dataframe thead th {\n",
       "        text-align: right;\n",
       "    }\n",
       "</style>\n",
       "<table border=\"1\" class=\"dataframe\">\n",
       "  <thead>\n",
       "    <tr style=\"text-align: right;\">\n",
       "      <th></th>\n",
       "      <th>agent_name</th>\n",
       "      <th>agent_category</th>\n",
       "      <th>agent_os</th>\n",
       "      <th>device</th>\n",
       "      <th>browser.family</th>\n",
       "      <th>os.family</th>\n",
       "      <th>cluster</th>\n",
       "    </tr>\n",
       "  </thead>\n",
       "  <tbody>\n",
       "    <tr>\n",
       "      <th>0</th>\n",
       "      <td>Chrome</td>\n",
       "      <td>smartphone</td>\n",
       "      <td>Android</td>\n",
       "      <td>Generic Smartphone</td>\n",
       "      <td>Chrome</td>\n",
       "      <td>Android</td>\n",
       "      <td>2</td>\n",
       "    </tr>\n",
       "    <tr>\n",
       "      <th>1</th>\n",
       "      <td>Chrome</td>\n",
       "      <td>smartphone</td>\n",
       "      <td>Android</td>\n",
       "      <td>Generic Smartphone</td>\n",
       "      <td>Chrome Mobile</td>\n",
       "      <td>Android</td>\n",
       "      <td>2</td>\n",
       "    </tr>\n",
       "    <tr>\n",
       "      <th>2</th>\n",
       "      <td>Chrome</td>\n",
       "      <td>smartphone</td>\n",
       "      <td>Android</td>\n",
       "      <td>Generic Smartphone</td>\n",
       "      <td>Chrome Mobile</td>\n",
       "      <td>Android</td>\n",
       "      <td>2</td>\n",
       "    </tr>\n",
       "    <tr>\n",
       "      <th>3</th>\n",
       "      <td>Chrome</td>\n",
       "      <td>smartphone</td>\n",
       "      <td>Android</td>\n",
       "      <td>Generic Smartphone</td>\n",
       "      <td>Chrome Mobile</td>\n",
       "      <td>Android</td>\n",
       "      <td>2</td>\n",
       "    </tr>\n",
       "    <tr>\n",
       "      <th>4</th>\n",
       "      <td>Chrome</td>\n",
       "      <td>smartphone</td>\n",
       "      <td>Android</td>\n",
       "      <td>Generic Smartphone</td>\n",
       "      <td>Chrome Mobile</td>\n",
       "      <td>Android</td>\n",
       "      <td>2</td>\n",
       "    </tr>\n",
       "    <tr>\n",
       "      <th>...</th>\n",
       "      <td>...</td>\n",
       "      <td>...</td>\n",
       "      <td>...</td>\n",
       "      <td>...</td>\n",
       "      <td>...</td>\n",
       "      <td>...</td>\n",
       "      <td>...</td>\n",
       "    </tr>\n",
       "    <tr>\n",
       "      <th>1793</th>\n",
       "      <td>Chrome</td>\n",
       "      <td>smartphone</td>\n",
       "      <td>Android</td>\n",
       "      <td>Generic Smartphone</td>\n",
       "      <td>Chrome Mobile</td>\n",
       "      <td>Android</td>\n",
       "      <td>2</td>\n",
       "    </tr>\n",
       "    <tr>\n",
       "      <th>1794</th>\n",
       "      <td>Chrome</td>\n",
       "      <td>smartphone</td>\n",
       "      <td>Android</td>\n",
       "      <td>Generic Smartphone</td>\n",
       "      <td>Chrome Mobile</td>\n",
       "      <td>Android</td>\n",
       "      <td>2</td>\n",
       "    </tr>\n",
       "    <tr>\n",
       "      <th>1795</th>\n",
       "      <td>Chrome</td>\n",
       "      <td>smartphone</td>\n",
       "      <td>Android</td>\n",
       "      <td>Generic Smartphone</td>\n",
       "      <td>Chrome Mobile</td>\n",
       "      <td>Android</td>\n",
       "      <td>2</td>\n",
       "    </tr>\n",
       "    <tr>\n",
       "      <th>1796</th>\n",
       "      <td>Chrome</td>\n",
       "      <td>smartphone</td>\n",
       "      <td>Android</td>\n",
       "      <td>Samsung</td>\n",
       "      <td>Samsung Internet</td>\n",
       "      <td>Android</td>\n",
       "      <td>2</td>\n",
       "    </tr>\n",
       "    <tr>\n",
       "      <th>1797</th>\n",
       "      <td>Chrome</td>\n",
       "      <td>smartphone</td>\n",
       "      <td>Android</td>\n",
       "      <td>Samsung</td>\n",
       "      <td>Samsung Internet</td>\n",
       "      <td>Android</td>\n",
       "      <td>2</td>\n",
       "    </tr>\n",
       "  </tbody>\n",
       "</table>\n",
       "<p>1798 rows × 7 columns</p>\n",
       "</div>"
      ],
      "text/plain": [
       "     agent_name agent_category agent_os              device    browser.family  \\\n",
       "0        Chrome     smartphone  Android  Generic Smartphone            Chrome   \n",
       "1        Chrome     smartphone  Android  Generic Smartphone     Chrome Mobile   \n",
       "2        Chrome     smartphone  Android  Generic Smartphone     Chrome Mobile   \n",
       "3        Chrome     smartphone  Android  Generic Smartphone     Chrome Mobile   \n",
       "4        Chrome     smartphone  Android  Generic Smartphone     Chrome Mobile   \n",
       "...         ...            ...      ...                 ...               ...   \n",
       "1793     Chrome     smartphone  Android  Generic Smartphone     Chrome Mobile   \n",
       "1794     Chrome     smartphone  Android  Generic Smartphone     Chrome Mobile   \n",
       "1795     Chrome     smartphone  Android  Generic Smartphone     Chrome Mobile   \n",
       "1796     Chrome     smartphone  Android             Samsung  Samsung Internet   \n",
       "1797     Chrome     smartphone  Android             Samsung  Samsung Internet   \n",
       "\n",
       "     os.family  cluster  \n",
       "0      Android        2  \n",
       "1      Android        2  \n",
       "2      Android        2  \n",
       "3      Android        2  \n",
       "4      Android        2  \n",
       "...        ...      ...  \n",
       "1793   Android        2  \n",
       "1794   Android        2  \n",
       "1795   Android        2  \n",
       "1796   Android        2  \n",
       "1797   Android        2  \n",
       "\n",
       "[1798 rows x 7 columns]"
      ]
     },
     "execution_count": 80,
     "metadata": {},
     "output_type": "execute_result"
    }
   ],
   "source": [
    "cluster_2"
   ]
  },
  {
   "cell_type": "markdown",
   "metadata": {},
   "source": [
    "<h3>CLUSTER 0</h3>"
   ]
  },
  {
   "cell_type": "code",
   "execution_count": 81,
   "metadata": {},
   "outputs": [],
   "source": [
    "agent_name_0 = cluster_0['agent_name'].value_counts(ascending=True)\n",
    "agent_category_0 = cluster_0['agent_category'].value_counts(ascending=True)\n",
    "agent_os_0 = cluster_0['agent_os'].value_counts(ascending=True)\n",
    "device_0 = cluster_0['device'].value_counts(ascending=True)\n",
    "browser_family_0 = cluster_0['browser.family'].value_counts(ascending=True)\n",
    "os_family_0 = cluster_0['os.family'].value_counts(ascending=True)"
   ]
  },
  {
   "cell_type": "code",
   "execution_count": 82,
   "metadata": {},
   "outputs": [
    {
     "data": {
      "text/plain": [
       "<AxesSubplot:title={'center':'DEVICE'}>"
      ]
     },
     "execution_count": 82,
     "metadata": {},
     "output_type": "execute_result"
    },
    {
     "data": {
      "image/png": "[encoded data removed]",
      "text/plain": [
       "<Figure size 1440x1080 with 6 Axes>"
      ]
     },
     "metadata": {},
     "output_type": "display_data"
    }
   ],
   "source": [
    "fig, axes = plt.subplots(nrows=2, ncols=3, figsize=(20,15))\n",
    "fig.tight_layout(pad = 12)\n",
    "\n",
    "axes[0,0].set_title(\"AGENT NAME\")\n",
    "axes[0,1].set_title(\"AGENT OS\")\n",
    "axes[0,2].set_title(\"AGENT CAT\")\n",
    "axes[1,0].set_title(\"BROWSER FAMILY\")\n",
    "axes[1,1].set_title(\"OS FAMILY\")\n",
    "axes[1,2].set_title(\"DEVICE\")\n",
    "\n",
    "agent_name_0.plot(kind = 'bar', color = 'blue', ax=axes[0,0])\n",
    "agent_os_0.plot(kind = 'bar', color = 'blue', ax=axes[0,1])\n",
    "agent_category_0.plot(kind = 'bar', color = 'blue', ax=axes[0,2])\n",
    "browser_family_0.plot(kind = 'bar', color = 'blue', ax=axes[1,0])\n",
    "os_family_0.plot(kind = 'bar', color = 'blue', ax=axes[1,1])\n",
    "device_0.plot(kind = 'bar', color = 'blue', ax=axes[1,2])"
   ]
  },
  {
   "cell_type": "markdown",
   "metadata": {},
   "source": [
    "In questo cluster si trova una maggioranza di dispositivi mobile e tablet di casa Apple(iPhone e iPad) ed una piccola percentuale di dispositivi Microsoft (Lumia), questa distribuzione è coerente anche con gli OS presenti nel cluster (Windows Phone OS e iOS) e con i browser utilizzati dove safari presenta il maggior numero di occorrenze"
   ]
  },
  {
   "cell_type": "markdown",
   "metadata": {},
   "source": [
    "<h3>CLUSTER 1</h3>"
   ]
  },
  {
   "cell_type": "code",
   "execution_count": 83,
   "metadata": {},
   "outputs": [],
   "source": [
    "agent_name_1 = cluster_1['agent_name'].value_counts(ascending=True)\n",
    "agent_category_1 = cluster_1['agent_category'].value_counts(ascending=True)\n",
    "agent_os_1 = cluster_1['agent_os'].value_counts(ascending=True)\n",
    "device_1 = cluster_1['device'].value_counts(ascending=True)\n",
    "browser_family_1 = cluster_1['browser.family'].value_counts(ascending=True)\n",
    "os_family_1 = cluster_1['os.family'].value_counts(ascending=True)"
   ]
  },
  {
   "cell_type": "code",
   "execution_count": 84,
   "metadata": {},
   "outputs": [
    {
     "data": {
      "image/png": "[encoded data removed]",
      "text/plain": [
       "<Figure size 1440x1080 with 6 Axes>"
      ]
     },
     "metadata": {},
     "output_type": "display_data"
    }
   ],
   "source": [
    "fig1, axes1 = plt.subplots(nrows=2, ncols=3, figsize=(20,15))\n",
    "\n",
    "axes1[0,0].set_title(\"AGENT NAME\")\n",
    "axes1[0,1].set_title(\"AGENT OS\")\n",
    "axes1[0,2].set_title(\"AGENT CAT\")\n",
    "axes1[1,0].set_title(\"BROWSER FAMILY\")\n",
    "axes1[1,1].set_title(\"OS FAMILY\")\n",
    "axes1[1,2].set_title(\"DEVICE\")\n",
    "\n",
    "\n",
    "fig1.tight_layout(pad = 10)\n",
    "agent_name_1.plot(kind = 'bar', ax=axes1[0,0])\n",
    "agent_os_1.plot(kind = 'bar', ax=axes1[0,1])\n",
    "agent_category_1.plot(kind = 'bar', ax=axes1[0,2])\n",
    "browser_family_1.plot(kind = 'bar', ax=axes1[1,0])\n",
    "os_family_1.plot(kind = 'bar', ax=axes1[1,1])\n",
    "device_1.plot(kind = 'bar', ax=axes1[1,2])\n",
    "plt.show()"
   ]
  },
  {
   "cell_type": "markdown",
   "metadata": {},
   "source": [
    "In questo cluster c'è una maggioranza di pc e una minoranza di crawler. Mi concentro sui pc facendo qualche considerazione: Non c'è distinzione tra pc e mac (entrambi vengono classificati come pc), però le macchine Windows sono quelle più utilizzate perchè gli OS che vanno per la maggiore sono Windows 7 e Windows 10 seguiti a ruota da Mac OSX. Si noti anche che le versioni di Windows più vecchie(XP) o poco performanti(8) sono poco utilizzate. I browser più utilizzati sono Chrome e Firefox"
   ]
  },
  {
   "cell_type": "markdown",
   "metadata": {},
   "source": [
    "<h3>CLUSTER 2</h3>"
   ]
  },
  {
   "cell_type": "code",
   "execution_count": 85,
   "metadata": {},
   "outputs": [],
   "source": [
    "agent_name_2 = cluster_2['agent_name'].value_counts(ascending=True)\n",
    "agent_category_2 = cluster_2['agent_category'].value_counts(ascending=True)\n",
    "agent_os_2 = cluster_2['agent_os'].value_counts(ascending=True)\n",
    "device_2 = cluster_2['device'].value_counts(ascending=True)\n",
    "browser_family_2 = cluster_2['browser.family'].value_counts(ascending=True)\n",
    "os_family_2 = cluster_2['os.family'].value_counts(ascending=True)"
   ]
  },
  {
   "cell_type": "code",
   "execution_count": 86,
   "metadata": {},
   "outputs": [
    {
     "data": {
      "text/plain": [
       "<AxesSubplot:title={'center':'DEVICE'}>"
      ]
     },
     "execution_count": 86,
     "metadata": {},
     "output_type": "execute_result"
    },
    {
     "data": {
      "image/png": "[encoded data removed]",
      "text/plain": [
       "<Figure size 1440x1080 with 6 Axes>"
      ]
     },
     "metadata": {},
     "output_type": "display_data"
    }
   ],
   "source": [
    "fig2, axes2 = plt.subplots(nrows=2, ncols=3, figsize=(20,15))\n",
    "fig2.tight_layout(pad = 10)\n",
    "\n",
    "axes2[0,0].set_title(\"AGENT NAME\")\n",
    "axes2[0,1].set_title(\"AGENT OS\")\n",
    "axes2[0,2].set_title(\"AGENT CAT\")\n",
    "axes2[1,0].set_title(\"BROWSER FAMILY\")\n",
    "axes2[1,1].set_title(\"OS FAMILY\")\n",
    "axes2[1,2].set_title(\"DEVICE\")\n",
    "\n",
    "\n",
    "agent_name_2.plot(kind = 'bar', color = 'green', ax=axes2[0,0])\n",
    "agent_os_2.plot(kind = 'bar', color = 'green', ax=axes2[0,1])\n",
    "agent_category_2.plot(kind = 'bar', color = 'green', ax=axes2[0,2])\n",
    "browser_family_2.plot(kind = 'bar', color = 'green', ax=axes2[1,0])\n",
    "os_family_2.plot(kind = 'bar', color = 'green', ax=axes2[1,1])\n",
    "device_2.plot(kind = 'bar', color = 'green', ax=axes2[1,2])\n"
   ]
  },
  {
   "cell_type": "markdown",
   "metadata": {},
   "source": [
    "Questo cluster è quello più \"monolitico\" ed è quindi il più semplice da interpretare. Esso contiene esclusivamente il\n",
    "mondo Android, quindi tutti gli smartphone estranei ad Apple e Microsoft. All'interno di questo cluster sono presenti\n",
    "dispositivi provenienti da diverse case produttrici (Samsung, Huawei, ecc...), sfortunatamente la maggior parte di essi\n",
    "non vengono classificati all'interno del dataset e rientrano nell'etichetta \"Generic Smartphone\""
   ]
  },
  {
   "cell_type": "markdown",
   "metadata": {},
   "source": [
    "<h1>Considerazioni Finali</h1>"
   ]
  },
  {
   "cell_type": "markdown",
   "metadata": {},
   "source": [
    "A valle delle osservazioni svolte sui cluster possiamo concludere che:\n",
    "<br><br><br>\n",
    "    1. I dispositivi più utilizzati per interagire con il sito https://www.ecodibergamo.it/ sono smartphone con os Android<br><br>\n",
    "    2. Gli iPhone sono meno usati dei dispositivi Android e dei PC, superano solo i crawler e gli smartphone Windows(ormai fuori dal mercato)<br><br>\n",
    "    3. Nella categoria dei dispositivi fissi(PC e MAC) i PC con Windows 10 e Windows 7 prevalgono sui MAC, mentre versioni di Windows obsolete (XP e 8) sono poco usate, è interessante notare che Windows 7 è più utilizzato di Windows 8<br><br>\n",
    "    4. Il browser più utilizzato è Chrome, tranne su dispositivi iOS dove si preferisce Safari"
   ]
  }
 ],
 "metadata": {
  "kernelspec": {
   "display_name": "Python 3",
   "language": "python",
   "name": "python3"
  },
  "language_info": {
   "codemirror_mode": {
    "name": "ipython",
    "version": 3
   },
   "file_extension": ".py",
   "mimetype": "text/x-python",
   "name": "python",
   "nbconvert_exporter": "python",
   "pygments_lexer": "ipython3",
   "version": "3.8.5"
  }
 },
 "nbformat": 4,
 "nbformat_minor": 4
}
